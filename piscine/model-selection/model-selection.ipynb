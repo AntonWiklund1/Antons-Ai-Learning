{
 "cells": [
  {
   "cell_type": "code",
   "execution_count": 20,
   "id": "e6295785-e4b3-41d6-ad0d-1a6296ab08b3",
   "metadata": {},
   "outputs": [],
   "source": [
    "import pandas as pd\n",
    "import numpy as np\n",
    "\n",
    "from sklearn.model_selection import KFold\n",
    "\n",
    "from sklearn.datasets import fetch_california_housing\n",
    "from sklearn.model_selection import train_test_split, cross_validate\n",
    "from sklearn.linear_model import LinearRegression\n",
    "from sklearn.preprocessing import StandardScaler\n",
    "from sklearn.impute import SimpleImputer\n",
    "from sklearn.pipeline import Pipeline\n",
    "from sklearn.ensemble import RandomForestRegressor\n",
    "from sklearn.model_selection import GridSearchCV\n"
   ]
  },
  {
   "cell_type": "markdown",
   "id": "a9884932-1306-41e6-a1a5-650ae908c35d",
   "metadata": {
    "jp-MarkdownHeadingCollapsed": true
   },
   "source": [
    "## Exercise 1: K-Fold"
   ]
  },
  {
   "cell_type": "code",
   "execution_count": 6,
   "id": "5c9ff599-0e89-4a57-bd9d-11b39b3a14b7",
   "metadata": {},
   "outputs": [
    {
     "name": "stdout",
     "output_type": "stream",
     "text": [
      "Fold: 1\n",
      "TRAIN: [2 3 4 5 6 7 8 9] TEST: [0 1]\n",
      "Fold: 2\n",
      "TRAIN: [0 1 4 5 6 7 8 9] TEST: [2 3]\n",
      "Fold: 3\n",
      "TRAIN: [0 1 2 3 6 7 8 9] TEST: [4 5]\n",
      "Fold: 4\n",
      "TRAIN: [0 1 2 3 4 5 8 9] TEST: [6 7]\n",
      "Fold: 5\n",
      "TRAIN: [0 1 2 3 4 5 6 7] TEST: [8 9]\n"
     ]
    }
   ],
   "source": [
    "X = np.array(np.arange(1,21).reshape(10,-1))\n",
    "y = np.array(np.arange(1,11))\n",
    "\n",
    "kf = KFold(n_splits=5)\n",
    "\n",
    "fold = 1\n",
    "for train_index, test_index in kf.split(X):\n",
    "    print(f\"Fold: {fold}\")\n",
    "    print(\"TRAIN:\", train_index, \"TEST:\", test_index)\n",
    "    fold += 1\n",
    "\n"
   ]
  },
  {
   "cell_type": "markdown",
   "id": "5127b72e-ed9b-44dc-985c-277fc81d19f9",
   "metadata": {},
   "source": [
    "## Exercise 2: Cross validation (k-fold)\n"
   ]
  },
  {
   "cell_type": "code",
   "execution_count": 15,
   "id": "7b24791f-e9f7-4358-b01b-144595bf7cff",
   "metadata": {},
   "outputs": [
    {
     "data": {
      "text/html": [
       "<div>\n",
       "<style scoped>\n",
       "    .dataframe tbody tr th:only-of-type {\n",
       "        vertical-align: middle;\n",
       "    }\n",
       "\n",
       "    .dataframe tbody tr th {\n",
       "        vertical-align: top;\n",
       "    }\n",
       "\n",
       "    .dataframe thead th {\n",
       "        text-align: right;\n",
       "    }\n",
       "</style>\n",
       "<table border=\"1\" class=\"dataframe\">\n",
       "  <thead>\n",
       "    <tr style=\"text-align: right;\">\n",
       "      <th></th>\n",
       "      <th>fit_time</th>\n",
       "      <th>score_time</th>\n",
       "      <th>test_score</th>\n",
       "    </tr>\n",
       "  </thead>\n",
       "  <tbody>\n",
       "    <tr>\n",
       "      <th>0</th>\n",
       "      <td>0.027572</td>\n",
       "      <td>0.006858</td>\n",
       "      <td>0.624336</td>\n",
       "    </tr>\n",
       "    <tr>\n",
       "      <th>1</th>\n",
       "      <td>0.030396</td>\n",
       "      <td>0.002849</td>\n",
       "      <td>0.616490</td>\n",
       "    </tr>\n",
       "    <tr>\n",
       "      <th>2</th>\n",
       "      <td>0.019637</td>\n",
       "      <td>0.004227</td>\n",
       "      <td>0.624866</td>\n",
       "    </tr>\n",
       "    <tr>\n",
       "      <th>3</th>\n",
       "      <td>0.028830</td>\n",
       "      <td>0.004418</td>\n",
       "      <td>0.598910</td>\n",
       "    </tr>\n",
       "    <tr>\n",
       "      <th>4</th>\n",
       "      <td>0.020337</td>\n",
       "      <td>0.001323</td>\n",
       "      <td>0.592843</td>\n",
       "    </tr>\n",
       "    <tr>\n",
       "      <th>5</th>\n",
       "      <td>0.013348</td>\n",
       "      <td>0.001799</td>\n",
       "      <td>0.613071</td>\n",
       "    </tr>\n",
       "    <tr>\n",
       "      <th>6</th>\n",
       "      <td>0.020013</td>\n",
       "      <td>0.004773</td>\n",
       "      <td>0.546303</td>\n",
       "    </tr>\n",
       "    <tr>\n",
       "      <th>7</th>\n",
       "      <td>0.034664</td>\n",
       "      <td>0.002263</td>\n",
       "      <td>0.607430</td>\n",
       "    </tr>\n",
       "    <tr>\n",
       "      <th>8</th>\n",
       "      <td>0.013287</td>\n",
       "      <td>0.002311</td>\n",
       "      <td>0.600146</td>\n",
       "    </tr>\n",
       "    <tr>\n",
       "      <th>9</th>\n",
       "      <td>0.022171</td>\n",
       "      <td>0.001240</td>\n",
       "      <td>0.595745</td>\n",
       "    </tr>\n",
       "  </tbody>\n",
       "</table>\n",
       "</div>"
      ],
      "text/plain": [
       "   fit_time  score_time  test_score\n",
       "0  0.027572    0.006858    0.624336\n",
       "1  0.030396    0.002849    0.616490\n",
       "2  0.019637    0.004227    0.624866\n",
       "3  0.028830    0.004418    0.598910\n",
       "4  0.020337    0.001323    0.592843\n",
       "5  0.013348    0.001799    0.613071\n",
       "6  0.020013    0.004773    0.546303\n",
       "7  0.034664    0.002263    0.607430\n",
       "8  0.013287    0.002311    0.600146\n",
       "9  0.022171    0.001240    0.595745"
      ]
     },
     "metadata": {},
     "output_type": "display_data"
    },
    {
     "name": "stdout",
     "output_type": "stream",
     "text": [
      "Scores on validation sets: \n",
      "[0.62433594 0.61648956 0.62486602 0.59891024 0.59284295 0.61307055\n",
      " 0.54630341 0.60742976 0.60014575 0.59574508]\n",
      "Mean of scores on validation sets:  \n",
      "0.6020139252674299\n",
      "Standard deviation of scores on validation sets:  \n",
      "0.021498382277346524\n"
     ]
    }
   ],
   "source": [
    "\n",
    "\n",
    "# data\n",
    "housing = fetch_california_housing()\n",
    "X, y = housing['data'], housing['target']\n",
    "# split data train test\n",
    "X_train, X_test, y_train, y_test = train_test_split(X,\n",
    "                                                    y,\n",
    "                                                    test_size=0.1,\n",
    "                                                    shuffle=True,\n",
    "                                                    random_state=43)\n",
    "# pipeline\n",
    "pipeline = [('imputer', SimpleImputer(strategy='median')),\n",
    "            ('scaler', StandardScaler()),\n",
    "            ('lr', LinearRegression())]\n",
    "pipe = Pipeline(pipeline)\n",
    "\n",
    "cv_results = cross_validate(pipe, X_train, y_train, cv=10, return_train_score=False)\n",
    "\n",
    "cv_results_df = pd.DataFrame(cv_results)\n",
    "\n",
    "display(cv_results_df)\n",
    "\n",
    "# Extract the scores\n",
    "scores = cv_results['test_score']\n",
    "\n",
    "# Calculate the mean and standard deviation of the scores\n",
    "mean_score = scores.mean()\n",
    "std_dev = scores.std()\n",
    "\n",
    "scores, mean_score, std_dev\n",
    "\n",
    "print(f\"Scores on validation sets: \\n{scores}\")\n",
    "print(f\"Mean of scores on validation sets:  \\n{mean_score}\")\n",
    "print(f\"Standard deviation of scores on validation sets:  \\n{std_dev}\")\n"
   ]
  },
  {
   "cell_type": "markdown",
   "id": "e97b955a-279e-4076-9883-d91c32138425",
   "metadata": {},
   "source": [
    "## Exercise 3: GridsearchCV\n"
   ]
  },
  {
   "cell_type": "code",
   "execution_count": 28,
   "id": "7b77d30f-d328-4b1b-9b71-5cfd7e925697",
   "metadata": {},
   "outputs": [
    {
     "name": "stdout",
     "output_type": "stream",
     "text": [
      "Best estimator: RandomForestRegressor(max_depth=20, n_estimators=75)\n",
      "----------------------------------------------------------------------------------------------------\n",
      "Best parameters: {'max_depth': 20, 'n_estimators': 75}\n",
      "----------------------------------------------------------------------------------------------------\n",
      "Best score: 0.8070852214250008\n",
      "----------------------------------------------------------------------------------------------------\n",
      "results: {'mean_fit_time': array([0.08936567, 0.45827556, 0.6157074 , 0.68628078, 3.42426381,\n",
      "       5.16659675, 1.10568867, 5.30343885, 6.38607597]), 'std_fit_time': array([0.00364035, 0.04481678, 0.04498964, 0.04166295, 0.06821181,\n",
      "       0.12378239, 0.0740291 , 0.15528539, 0.53054587]), 'mean_score_time': array([0.00166817, 0.00269628, 0.00445743, 0.00369296, 0.0218914 ,\n",
      "       0.02222824, 0.01378579, 0.04287424, 0.0493454 ]), 'std_score_time': array([0.00069637, 0.00083511, 0.00186182, 0.00152574, 0.00700988,\n",
      "       0.00259929, 0.00422039, 0.00480077, 0.00302443]), 'param_max_depth': masked_array(data=[1, 1, 1, 10, 10, 10, 20, 20, 20],\n",
      "             mask=[False, False, False, False, False, False, False, False,\n",
      "                   False],\n",
      "       fill_value='?',\n",
      "            dtype=object), 'param_n_estimators': masked_array(data=[10, 50, 75, 10, 50, 75, 10, 50, 75],\n",
      "             mask=[False, False, False, False, False, False, False, False,\n",
      "                   False],\n",
      "       fill_value='?',\n",
      "            dtype=object), 'params': [{'max_depth': 1, 'n_estimators': 10}, {'max_depth': 1, 'n_estimators': 50}, {'max_depth': 1, 'n_estimators': 75}, {'max_depth': 10, 'n_estimators': 10}, {'max_depth': 10, 'n_estimators': 50}, {'max_depth': 10, 'n_estimators': 75}, {'max_depth': 20, 'n_estimators': 10}, {'max_depth': 20, 'n_estimators': 50}, {'max_depth': 20, 'n_estimators': 75}], 'split0_test_score': array([0.35393201, 0.34977181, 0.35494895, 0.79414756, 0.80453855,\n",
      "       0.8044276 , 0.81124636, 0.82735032, 0.82908897]), 'split1_test_score': array([0.33403833, 0.33355097, 0.33416731, 0.77621593, 0.78314559,\n",
      "       0.78733685, 0.78840156, 0.81168914, 0.81096239]), 'split2_test_score': array([0.33620786, 0.33503128, 0.33483567, 0.75522574, 0.76914854,\n",
      "       0.77172806, 0.77826659, 0.79477026, 0.80067598]), 'split3_test_score': array([0.33748055, 0.33604692, 0.33596367, 0.75252707, 0.76127656,\n",
      "       0.76603308, 0.77095489, 0.78992334, 0.79222259]), 'split4_test_score': array([0.32124865, 0.31549922, 0.31911077, 0.76616668, 0.77864241,\n",
      "       0.77906207, 0.77890178, 0.80043055, 0.80247617]), 'mean_test_score': array([0.33658148, 0.33398004, 0.33580528, 0.7688566 , 0.77935033,\n",
      "       0.78171753, 0.78555424, 0.80483272, 0.80708522]), 'std_test_score': array([0.01042643, 0.01092229, 0.01139153, 0.01518869, 0.01469755,\n",
      "       0.01341765, 0.0139907 , 0.01339384, 0.01250933]), 'rank_test_score': array([7, 9, 8, 6, 5, 4, 3, 2, 1], dtype=int32)}\n"
     ]
    }
   ],
   "source": [
    "housing = fetch_california_housing()\n",
    "X, y = housing['data'], housing['target']\n",
    "# split data train test\n",
    "X_train, X_test, y_train, y_test = train_test_split(X,y,test_size=0.1,shuffle=True,random_state=43)\n",
    "\n",
    "rf = RandomForestRegressor()\n",
    "\n",
    "parameters = {'n_estimators':[10, 50, 75],\n",
    "                'max_depth':[1,10,20]\n",
    "             }\n",
    "\n",
    "\n",
    "gridsearch = GridSearchCV(rf,\n",
    "                        parameters,\n",
    "                        cv = 5,\n",
    "                        n_jobs=-1,\n",
    "                        )\n",
    "\n",
    "gridsearch.fit(X_train, y_train)\n",
    "\n",
    "print(f\"Best estimator: {gridsearch.best_estimator_}\")\n",
    "print(\"-\" * 100)\n",
    "print(f\"Best parameters: {gridsearch.best_params_}\")\n",
    "print(\"-\" * 100)\n",
    "print(f\"Best score: {gridsearch.best_score_}\")\n",
    "print(\"-\" * 100)\n",
    "print(f\"results: {gridsearch.cv_results_}\")"
   ]
  },
  {
   "cell_type": "code",
   "execution_count": 29,
   "id": "8e2720f4-7a90-453f-90d3-c8887b5fcf8f",
   "metadata": {},
   "outputs": [
    {
     "data": {
      "text/plain": [
       "0.8127797348876079"
      ]
     },
     "execution_count": 29,
     "metadata": {},
     "output_type": "execute_result"
    }
   ],
   "source": [
    "gridsearch.score(X_test, y_test)"
   ]
  },
  {
   "cell_type": "markdown",
   "id": "39a52044-a9dd-461c-aa9d-821d56e96afd",
   "metadata": {},
   "source": [
    "## Exercise 4: Validation curve and Learning curve"
   ]
  },
  {
   "cell_type": "code",
   "execution_count": 35,
   "id": "7e65097b-5f79-4563-a2a1-f6bf8417055a",
   "metadata": {},
   "outputs": [
    {
     "name": "stderr",
     "output_type": "stream",
     "text": [
      "[Parallel(n_jobs=-1)]: Using backend LokyBackend with 8 concurrent workers.\n",
      "[Parallel(n_jobs=-1)]: Done  38 out of  75 | elapsed:  4.0min remaining:  3.9min\n",
      "[Parallel(n_jobs=-1)]: Done  75 out of  75 | elapsed:  7.6min finished\n"
     ]
    },
    {
     "data": {
      "image/png": "[encoded data removed]",
      "text/plain": [
       "<Figure size 640x480 with 1 Axes>"
      ]
     },
     "metadata": {},
     "output_type": "display_data"
    }
   ],
   "source": [
    "from sklearn.datasets import make_classification\n",
    "from sklearn.model_selection import validation_curve\n",
    "from sklearn.ensemble import RandomForestClassifier\n",
    "import numpy as np\n",
    "import matplotlib.pyplot as plt\n",
    "from joblib import Parallel, delayed\n",
    "import multiprocessing\n",
    "\n",
    "\n",
    "X, y = make_classification(n_samples=100000,\n",
    "                        n_features= 30,\n",
    "                        n_informative=10,\n",
    "                        flip_y=0.2 )\n",
    "\n",
    "clf = RandomForestClassifier(max_depth=10)\n",
    "\n",
    "param_range = np.arange(1,30,2)\n",
    "\n",
    "train_scores, test_scores = validation_curve(clf,\n",
    "                                            X,\n",
    "                                            y,\n",
    "                                            param_name=\"max_depth\",\n",
    "                                            param_range=param_range,\n",
    "                                            scoring=\"roc_auc\",\n",
    "                                            n_jobs=-1,\n",
    "                                            verbose=2\n",
    "                                            )\n",
    "\n",
    "\n",
    "train_scores_mean = np.mean(train_scores, axis=1)\n",
    "train_scores_std = np.std(train_scores, axis=1)\n",
    "test_scores_mean = np.mean(test_scores, axis=1)\n",
    "test_scores_std = np.std(test_scores, axis=1)\n",
    "\n",
    "# Plot the validation curve\n",
    "plt.title(\"Validation Curve with max_depth\")\n",
    "plt.xlabel(\"max_depth\")\n",
    "plt.ylabel(\"Score ROC AUC\")\n",
    "plt.ylim(0.6, 1.1)\n",
    "lw = 2\n",
    "plt.plot(param_range, train_scores_mean, label=\"Training score\",\n",
    "             color=\"darkorange\", lw=lw)\n",
    "plt.fill_between(param_range, train_scores_mean - train_scores_std,\n",
    "                 train_scores_mean + train_scores_std, alpha=0.2,\n",
    "                 color=\"darkorange\", lw=lw)\n",
    "plt.plot(param_range, test_scores_mean, label=\"Cross-validation score\",\n",
    "             color=\"navy\", lw=lw)\n",
    "plt.fill_between(param_range, test_scores_mean - test_scores_std,\n",
    "                 test_scores_mean + test_scores_std, alpha=0.2,\n",
    "                 color=\"navy\", lw=lw)\n",
    "plt.legend(loc=\"best\")\n",
    "plt.show()"
   ]
  },
  {
   "cell_type": "code",
   "execution_count": null,
   "id": "5dd5522d-c370-4acc-a1b2-b70a655d4828",
   "metadata": {},
   "outputs": [],
   "source": [
    "import time\n",
    "from sklearn.model_selection import learning_curve\n",
    "\n",
    "# Define your model\n",
    "clf = RandomForestClassifier(max_depth=12)\n",
    "\n",
    "# Prepare the training set sizes for the learning curve\n",
    "train_sizes = np.linspace(0.1, 1.0, 10)\n",
    "\n",
    "# Initialize arrays to store the results\n",
    "train_sizes_abs, train_scores, test_scores, fit_times, _ = learning_curve(\n",
    "    clf, X, y, cv=10, train_sizes=train_sizes, return_times=True, scoring='roc_auc', n_jobs=-1)\n",
    "\n",
    "# Calculate the mean and standard deviation for the training and test scores\n",
    "train_scores_mean = np.mean(train_scores, axis=1)\n",
    "train_scores_std = np.std(train_scores, axis=1)\n",
    "test_scores_mean = np.mean(test_scores, axis=1)\n",
    "test_scores_std = np.std(test_scores, axis=1)\n",
    "\n",
    "# Calculate the mean and standard deviation for the fit times\n",
    "fit_times_mean = np.mean(fit_times, axis=1)\n",
    "fit_times_std = np.std(fit_times, axis=1)\n",
    "\n",
    "# Plot Learning Curve\n",
    "plt.figure(figsize=(24, 6))\n",
    "plt.subplot(131)\n",
    "plt.grid(True)  # Enable grid\n",
    "\n",
    "plt.title(\"Learning Curves of Random Forest\")\n",
    "plt.xlabel(\"Training examples\")\n",
    "plt.ylabel(\"Score\")\n",
    "plt.ylim(0.70,1)\n",
    "plt.fill_between(train_sizes_abs, train_scores_mean, alpha=0.1, color=\"r\")\n",
    "plt.fill_between(train_sizes_abs, test_scores_mean - test_scores_std,\n",
    "                 test_scores_mean + test_scores_std, alpha=0.1, color=\"g\")\n",
    "plt.plot(train_sizes_abs, train_scores_mean, 'o-', color=\"r\", label=\"Training score\")\n",
    "plt.plot(train_sizes_abs, test_scores_mean, 'o-', color=\"g\", label=\"Cross-validation score\")\n",
    "plt.legend(loc=\"best\")\n",
    "\n",
    "# Plot Scalability of the model\n",
    "plt.subplot(132)\n",
    "plt.title(\"Scalability of the Model\")\n",
    "plt.xlabel(\"Training examples\")\n",
    "plt.ylabel(\"Fit times\")\n",
    "plt.grid(True)  # Enable grid\n",
    "plt.plot(train_sizes_abs, fit_times_mean, 'o-')\n",
    "\n",
    "# Plot Performance of the Model\n",
    "plt.subplot(133)\n",
    "plt.title(\"Performance of the Model\")\n",
    "plt.xlabel(\"Fit times\")\n",
    "plt.ylabel(\"Score\")\n",
    "plt.grid(True)  # Enable grid\n",
    "plt.plot(fit_times_mean, test_scores_mean, 'o-')\n",
    "plt.fill_between(fit_times_mean, test_scores_mean - test_scores_std,\n",
    "                 test_scores_mean + test_scores_std, alpha=0.1)\n",
    "\n",
    "plt.tight_layout()\n",
    "plt.show()"
   ]
  },
  {
   "cell_type": "code",
   "execution_count": null,
   "id": "549a61a0-0ca0-4a58-8974-7f769da436b6",
   "metadata": {},
   "outputs": [],
   "source": []
  }
 ],
 "metadata": {
  "kernelspec": {
   "display_name": "Python 3 (ipykernel)",
   "language": "python",
   "name": "python3"
  },
  "language_info": {
   "codemirror_mode": {
    "name": "ipython",
    "version": 3
   },
   "file_extension": ".py",
   "mimetype": "text/x-python",
   "name": "python",
   "nbconvert_exporter": "python",
   "pygments_lexer": "ipython3",
   "version": "3.11.7"
  }
 },
 "nbformat": 4,
 "nbformat_minor": 5
}
