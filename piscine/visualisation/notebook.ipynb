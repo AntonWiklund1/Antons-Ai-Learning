{
 "cells": [
  {
   "cell_type": "code",
   "execution_count": null,
   "id": "761696a1-3506-41d5-b69c-ee8e80b79509",
   "metadata": {},
   "outputs": [],
   "source": [
    "import pandas as pd\n",
    "import numpy as np\n",
    "import jupyter\n",
    "import matplotlib.pyplot as plt"
   ]
  },
  {
   "cell_type": "markdown",
   "id": "2eac7b56-80b8-4931-99db-38d5627eac19",
   "metadata": {},
   "source": [
    "## Exercise 1: Pandas plot 1"
   ]
  },
  {
   "cell_type": "code",
   "execution_count": null,
   "id": "e549129b-cb2a-4e6d-b65c-e95c923becb3",
   "metadata": {},
   "outputs": [],
   "source": [
    "df = pd.DataFrame({\n",
    "        'name':['christopher','marion','maria','mia','clement','randy','remi'],\n",
    "        'age':[70,30,22,19,45,33,20],\n",
    "        'gender':['M','F','F','F','M','M','M'],\n",
    "        'state':['california','dc','california','dc','california','new york','porto'],\n",
    "        'num_children':[2,0,0,3,8,1,4],\n",
    "        'num_pets':[5,1,0,5,2,2,3]\n",
    "        })\n",
    "\n",
    "\n",
    "\n",
    "plt.bar(df['name'], df['age'], label=\"age\")\n",
    "plt.xticks(rotation=90)  # Rotate names by 45 degrees\n",
    "plt.title(\"age per name\")\n",
    "plt.xlabel(\"name\")\n",
    "plt.legend()"
   ]
  },
  {
   "cell_type": "markdown",
   "id": "31a380f5-f940-4b92-9278-eae9d07e59d6",
   "metadata": {},
   "source": [
    "## Exercise 2: Pandas plot 2"
   ]
  },
  {
   "cell_type": "code",
   "execution_count": null,
   "id": "7ee81846-56e1-4fd3-b637-97fae6f4635b",
   "metadata": {},
   "outputs": [],
   "source": [
    "df = pd.DataFrame({\n",
    "        'name':['christopher','marion','maria','mia','clement','randy','remi'],\n",
    "        'age':[70,30,22,19,45,33,20],\n",
    "        'gender':['M','F','F','F','M','M','M'],\n",
    "        'state':['california','dc','california','dc','california','new york','porto'],\n",
    "        'num_children':[4,2,1,0,3,1,0],\n",
    "        'num_pets':[5,1,0,2,2,2,3]\n",
    "        })\n",
    "\n",
    "\n",
    "plt.scatter(df['age'],df['num_children'],c='red')\n",
    "plt.title(\"Scatter plot: Number of children and age\")\n",
    "plt.xlabel(\"age\")\n",
    "plt.ylabel(\"num_children\")"
   ]
  },
  {
   "cell_type": "markdown",
   "id": "acea59c1-c5b3-495d-981e-fcf191a0a7c4",
   "metadata": {},
   "source": [
    "## Exercise 3: Matplotlib 1"
   ]
  },
  {
   "cell_type": "code",
   "execution_count": null,
   "id": "be9827e5-d696-42c6-a94d-875590d2feda",
   "metadata": {},
   "outputs": [],
   "source": [
    "# Assuming the data points are integers and based on the image provided\n",
    "x = [1, 4, 5, 6, 7]\n",
    "y = [2, 6, 3, 6, 3]\n",
    "\n",
    "# Create the scatter plot\n",
    "plt.scatter(x, y, color='blue', s=12, zorder=3)  # s is the size of the points\n",
    "\n",
    "# Plot the lines between points with red dotted lines\n",
    "plt.plot(x, y, 'r--', linewidth=3)\n",
    "\n",
    "plt.ylim(1, 8)\n",
    "plt.xlim(1,8)\n",
    "\n",
    "# Set the title and labels of the axes\n",
    "plt.title('Display marker')\n",
    "plt.xlabel('x - axis')\n",
    "plt.ylabel('y - axis')\n",
    "\n",
    "# Show the plot\n",
    "plt.show()"
   ]
  },
  {
   "cell_type": "markdown",
   "id": "98a453fc-004e-43f7-b7ea-ac0433cc4fa3",
   "metadata": {},
   "source": [
    "## Exercise 4: Matplotlib 2\n"
   ]
  },
  {
   "cell_type": "code",
   "execution_count": null,
   "id": "3fbcb059-a94f-4a8c-b9ea-492c4946e34e",
   "metadata": {},
   "outputs": [],
   "source": [
    "\n",
    "# Provided data\n",
    "left_data = [5, 7, 11, 13, 17]\n",
    "right_data = [0.1, 0.2, 0.4, 0.8, -1.6]\n",
    "x_axis = [0.0, 1.0, 2.0, 3.0, 4.0]\n",
    "\n",
    "# Create the base figure and the first axes (left y-axis)\n",
    "fig, ax1 = plt.subplots()\n",
    "\n",
    "# Plot the left data in black\n",
    "ax1.plot(x_axis, left_data, color='black')\n",
    "\n",
    "ax1.set_ylabel('Big', color='black')\n",
    "\n",
    "# Create the second axes (right y-axis) sharing the same x-axis\n",
    "ax2 = ax1.twinx()\n",
    "\n",
    "# Plot the right data in red\n",
    "ax2.plot(x_axis, right_data, color='red')\n",
    "ax2.set_ylabel('Small')\n",
    "\n",
    "# Set the title\n",
    "plt.title('Twin axes')\n",
    "\n",
    "# Show the plot\n",
    "plt.show()\n"
   ]
  },
  {
   "cell_type": "markdown",
   "id": "b62656cd-a362-4257-9671-eda60837358a",
   "metadata": {},
   "source": [
    "## Exercise 5: Matplotlib subplots"
   ]
  },
  {
   "cell_type": "code",
   "execution_count": null,
   "id": "afc0c120-31a1-40a8-bfbe-bfb2f814fb07",
   "metadata": {},
   "outputs": [],
   "source": [
    "# Creating subplots with a for loop\n",
    "fig, axes = plt.subplots(2, 3, figsize=(10, 7))\n",
    "fig.subplots_adjust(hspace=0.5, wspace=0.5)  # Set the spacing between subplots\n",
    "\n",
    "# Loop through the subplot axes to add text and titles\n",
    "for i, ax in enumerate(axes.flatten(), start=1):\n",
    "    ax.text(0.5, 0.5, f'(2, 3, {i})', ha='center', va='center', fontsize=12)\n",
    "    ax.set_title(f'Title {i}')\n",
    "    ax.set_yticks([1, 0.75, 0.5, 0.25, 0])  # Set custom y-ticks\n",
    "    ax.set_xticks([0.0,0.5,1.0])\n",
    "\n",
    "# Show the plot\n",
    "plt.show()\n"
   ]
  },
  {
   "cell_type": "markdown",
   "id": "6b411e4f-9543-4543-954f-8c206ffa3036",
   "metadata": {},
   "source": [
    "## Exercise 6: Plotly 1"
   ]
  },
  {
   "cell_type": "code",
   "execution_count": null,
   "id": "47f8c251-19e7-406a-96cc-d63560f5b23f",
   "metadata": {},
   "outputs": [],
   "source": [
    "import plotly.express as px\n",
    "from IPython.display import display\n",
    "\n",
    "returns = np.random.randn(50)\n",
    "price = 100 + np.cumsum(returns)\n",
    "\n",
    "dates = pd.date_range(start='2020-09-01', periods=50, freq='B')\n",
    "df = pd.DataFrame(zip(dates, price), columns=['Date','Company_A'])\n",
    "\n",
    "# Create the plot using Plotly Express\n",
    "fig = px.line(df, x='Date', y='Company_A', title='Company_1 stock price')\n",
    "\n",
    "# Update layout for x-axis and y-axis names\n",
    "fig.update_layout(\n",
    "    xaxis_title='Date',\n",
    "    yaxis_title='Company A'\n",
    ")\n",
    "\n",
    "# Show the plot\n",
    "fig.show()"
   ]
  },
  {
   "cell_type": "code",
   "execution_count": null,
   "id": "e8f846a0-8879-4198-8da8-91b1e671792b",
   "metadata": {},
   "outputs": [],
   "source": [
    "import plotly.graph_objects as go\n",
    "\n",
    "returns = np.random.randn(50)\n",
    "price = 100 + np.cumsum(returns)\n",
    "\n",
    "dates = pd.date_range(start='2020-09-01', periods=50, freq='B')\n",
    "df = pd.DataFrame({'Date': dates, 'Company_A': price})\n",
    "\n",
    "# Create the figure using plotly.graph_objects\n",
    "fig = go.Figure()\n",
    "\n",
    "# Add the line trace\n",
    "fig.add_trace(go.Scatter(x=df['Date'], y=df['Company_A'], mode='lines', line=dict(color='blue')))\n",
    "\n",
    "# Update the layout\n",
    "fig.update_layout(\n",
    "    title='Company_1 stock price',\n",
    "    xaxis_title='Date',\n",
    "    yaxis_title='Company A',\n",
    "    xaxis=dict(\n",
    "        showline=True,\n",
    "        showgrid=True,\n",
    "        showticklabels=True,\n",
    "        linewidth=2,\n",
    "        ticks='outside',\n",
    "        tickfont=dict(\n",
    "            family='Arial',\n",
    "            size=12,\n",
    "            color='rgb(82, 82, 82)',\n",
    "        )\n",
    "    )\n",
    "  \n",
    ")\n",
    "\n",
    "# Show the plot\n",
    "fig.show()\n",
    "\n"
   ]
  },
  {
   "cell_type": "markdown",
   "id": "a44c0a5b-0224-4385-9b69-65dd53fbd96e",
   "metadata": {},
   "source": [
    "## Exercise 7: Plotly Box plots\n"
   ]
  },
  {
   "cell_type": "code",
   "execution_count": null,
   "id": "11c6764a-c98b-437e-b9c8-1e0491632e2e",
   "metadata": {},
   "outputs": [],
   "source": [
    "import plotly.graph_objects as go\n",
    "import numpy as np\n",
    "\n",
    "# Generate 3 random arrays from a normal distribution\n",
    "y0 = np.random.randn(50)\n",
    "y1 = np.random.randn(50) + 1 # shift mean\n",
    "y2 = np.random.randn(50) + 2\n",
    "\n",
    "# Create the figure for the box plot\n",
    "fig = go.Figure()\n",
    "\n",
    "# Add box plots for each array\n",
    "fig.add_trace(go.Box(y=y0, name='Sample A'))\n",
    "fig.add_trace(go.Box(y=y1, name='Sample B'))\n",
    "fig.add_trace(go.Box(y=y2, name='Sample C'))\n",
    "\n",
    "# Add title and update layout to show legend\n",
    "fig.update_layout(\n",
    "    title='Comparison of three samples',\n",
    "    showlegend=True\n",
    ")\n",
    "\n",
    "# Show the plot\n",
    "fig.show()\n",
    "\n"
   ]
  },
  {
   "cell_type": "code",
   "execution_count": null,
   "id": "429c403e-98f7-4935-8300-9d4face5d6e5",
   "metadata": {},
   "outputs": [],
   "source": []
  },
  {
   "cell_type": "code",
   "execution_count": null,
   "id": "f272dc5d-d716-4298-8bfb-638287bab647",
   "metadata": {},
   "outputs": [],
   "source": []
  }
 ],
 "metadata": {
  "kernelspec": {
   "display_name": "Python 3 (ipykernel)",
   "language": "python",
   "name": "python3"
  },
  "language_info": {
   "codemirror_mode": {
    "name": "ipython",
    "version": 3
   },
   "file_extension": ".py",
   "mimetype": "text/x-python",
   "name": "python",
   "nbconvert_exporter": "python",
   "pygments_lexer": "ipython3",
   "version": "3.8.18"
  }
 },
 "nbformat": 4,
 "nbformat_minor": 5
}
