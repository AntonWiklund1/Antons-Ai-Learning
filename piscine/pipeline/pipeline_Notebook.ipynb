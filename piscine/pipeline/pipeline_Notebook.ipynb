{
 "cells": [
  {
   "cell_type": "code",
   "execution_count": 27,
   "id": "b31b52a2-a75a-4f4a-9db1-cf3f26391b84",
   "metadata": {},
   "outputs": [],
   "source": [
    "import pandas as pd\n",
    "from sklearn.impute import SimpleImputer\n",
    "import numpy as np\n",
    "from sklearn.preprocessing import StandardScaler\n",
    "from sklearn.preprocessing import OneHotEncoder\n",
    "from sklearn.preprocessing import OrdinalEncoder\n",
    "from sklearn.model_selection import train_test_split\n",
    "from sklearn.compose import make_column_transformer\n",
    "from sklearn.pipeline import Pipeline\n",
    "from sklearn.linear_model import LogisticRegression\n",
    "\n",
    "\n"
   ]
  },
  {
   "cell_type": "markdown",
   "id": "86a7e2de-80d3-486b-9f18-9c91f35687aa",
   "metadata": {
    "jp-MarkdownHeadingCollapsed": true
   },
   "source": [
    "## Exercise 1: Imputer 1\n"
   ]
  },
  {
   "cell_type": "code",
   "execution_count": null,
   "id": "ad84863d-fd0b-4d65-84c5-2776d71e4521",
   "metadata": {},
   "outputs": [],
   "source": [
    "train_data = [[7, 6, 5],\n",
    "              [4, np.nan, 5],\n",
    "              [1, 20, 8]]\n",
    "\n",
    "\n",
    "imputer = SimpleImputer(strategy='mean')\n",
    "X_imputed = imputer.fit(train_data)\n",
    "\n",
    "X_imputed.statistics_"
   ]
  },
  {
   "cell_type": "code",
   "execution_count": null,
   "id": "a9e4012a-1aeb-4d26-8134-5ecee8d26af1",
   "metadata": {},
   "outputs": [],
   "source": [
    "train_data_imputed = imputer.transform(train_data)\n",
    "\n",
    "train_data_imputed\n"
   ]
  },
  {
   "cell_type": "code",
   "execution_count": null,
   "id": "66610a95-0767-446b-80a5-5425d47fb416",
   "metadata": {},
   "outputs": [],
   "source": [
    "test_data = [[np.nan, 1, 2],\n",
    "             [7, np.nan, 9],\n",
    "             [np.nan, 2, 4]]\n",
    "\n",
    "test_data_imputed = imputer.transform(test_data)\n",
    "\n",
    "test_data_imputed"
   ]
  },
  {
   "cell_type": "markdown",
   "id": "b513bbe5-a076-4227-86bf-5f28ac46eb5c",
   "metadata": {
    "jp-MarkdownHeadingCollapsed": true,
    "scrolled": true
   },
   "source": [
    "## Exercise 2: Scaler"
   ]
  },
  {
   "cell_type": "code",
   "execution_count": null,
   "id": "0bc18c49-af81-4982-9415-122873c471cc",
   "metadata": {},
   "outputs": [],
   "source": [
    "X_train = np.array([[ 1., -1.,  2.],\n",
    "                     [ 2.,  0.,  0.],\n",
    "                     [ 0.,  1., -1.]])\n",
    "scaler = StandardScaler()\n",
    "\n",
    "X_train_scaled = scaler.fit_transform(X_train)\n",
    "\n",
    "X_train_scaled"
   ]
  },
  {
   "cell_type": "code",
   "execution_count": null,
   "id": "37d7d9a4-5baf-434c-86bb-2915461fc40f",
   "metadata": {},
   "outputs": [],
   "source": [
    "X_test = np.array([[ 2., -1.,  1.],\n",
    "                     [ 3.,  3.,  -1.],\n",
    "                     [ 1.,  1., 1.]])\n",
    "\n",
    "X_text_scaled = scaler.transform(X_test)\n",
    "\n",
    "X_text_scaled"
   ]
  },
  {
   "cell_type": "markdown",
   "id": "09b13d37-0e91-46dc-9fe9-65873e4f37f1",
   "metadata": {
    "jp-MarkdownHeadingCollapsed": true
   },
   "source": [
    "## Exercise 3: One hot Encoder"
   ]
  },
  {
   "cell_type": "code",
   "execution_count": null,
   "id": "30562b0c-5f7b-455e-900d-7239c4f91cad",
   "metadata": {},
   "outputs": [],
   "source": [
    "X_train = [['Python'], ['Java'], ['Java'], ['C++']]\n",
    "\n",
    "\n",
    "encoder = OneHotEncoder(handle_unknown='ignore') \n",
    "\n",
    "X_train_encoded = encoder.fit_transform(X_train).toarray()\n",
    "\n",
    "categories = encoder.categories_[0]  # Extracting the list of categories for the first (and only) feature\n",
    "\n",
    "# Creating the DataFrame\n",
    "X_train_df_categories = pd.DataFrame(X_train_encoded, columns=categories)\n",
    "\n",
    "X_train_df_categories\n"
   ]
  },
  {
   "cell_type": "code",
   "execution_count": null,
   "id": "dbb52cb3-d315-4561-9d3b-31c811d00aec",
   "metadata": {},
   "outputs": [],
   "source": [
    "X_test = [['Python'], ['Java'], ['C'], ['C++']]\n",
    "\n",
    "X_test_encoded = encoder.transform(X_test).toarray()\n",
    "\n",
    "test_categories = encoder.categories_[0]\n",
    "\n",
    "X_test_df_categories = pd.DataFrame(X_test_encoded, columns=test_categories)\n",
    "\n",
    "X_test_df_categories\n"
   ]
  },
  {
   "cell_type": "markdown",
   "id": "11d43d67-b7ea-46f1-a3cf-f451de990216",
   "metadata": {
    "jp-MarkdownHeadingCollapsed": true
   },
   "source": [
    "## Exercise 4: Ordinal Encoder"
   ]
  },
  {
   "cell_type": "code",
   "execution_count": null,
   "id": "9b554b8a-caa2-4266-8144-3b30032b31f6",
   "metadata": {},
   "outputs": [],
   "source": [
    "X_train = [['good'], ['bad'], ['neutral']]\n",
    "\n",
    "encoder = OrdinalEncoder(categories=[['bad', 'neutral', 'good']])\n",
    "\n",
    "X_train_encoded = encoder.fit_transform(X_train)\n",
    "\n",
    "X_train_encoded"
   ]
  },
  {
   "cell_type": "code",
   "execution_count": null,
   "id": "465b466b-2c68-49d1-9900-ecad3b18667d",
   "metadata": {},
   "outputs": [],
   "source": [
    "X_test = [['good'], ['good'], ['bad']]\n",
    "\n",
    "X_test_encoded = encoder.transform(X_test)\n",
    "\n",
    "X_test_encoded"
   ]
  },
  {
   "cell_type": "markdown",
   "id": "74ff7a0e-c116-4fa1-b0a3-41bc90e037ef",
   "metadata": {
    "jp-MarkdownHeadingCollapsed": true
   },
   "source": [
    "## Exercise 5: Categorical variables"
   ]
  },
  {
   "cell_type": "code",
   "execution_count": 8,
   "id": "4c2fdc25-d602-4e62-a6ca-594def43c773",
   "metadata": {},
   "outputs": [
    {
     "data": {
      "text/plain": [
       "age             6\n",
       "menopause       3\n",
       "tumor-size     11\n",
       "inv-nodes       6\n",
       "node-caps       2\n",
       "deg-malig       3\n",
       "breast          2\n",
       "breast-quad     5\n",
       "irradiat        2\n",
       "dtype: int64"
      ]
     },
     "execution_count": 8,
     "metadata": {},
     "output_type": "execute_result"
    }
   ],
   "source": [
    "column_names = ['age', 'menopause', 'tumor-size', 'inv-nodes', 'node-caps', \n",
    "                'deg-malig', 'breast', 'breast-quad', 'irradiat', 'Class']\n",
    "\n",
    "\n",
    "df = pd.read_csv('breast-cancer.csv', names=column_names)\n",
    "\n",
    "df = df.drop(columns=['Class'])\n",
    "# Drop NaN values\n",
    "df = df.dropna()\n",
    "\n",
    "# Split the data into train and test sets\n",
    "X_train, X_test = train_test_split(df, test_size=0.20, random_state=43)\n",
    "\n",
    "# Count the number of unique values per feature in the train set\n",
    "unique_values_per_feature = X_train.nunique()\n",
    "\n",
    "unique_values_per_feature"
   ]
  },
  {
   "cell_type": "code",
   "execution_count": 9,
   "id": "3f50696f-4392-4fa7-b51f-c5db85b566ac",
   "metadata": {},
   "outputs": [
    {
     "data": {
      "text/plain": [
       "(array([[1., 0., 1., 0., 0., 1., 0., 0., 0., 1., 0.],\n",
       "        [1., 0., 1., 0., 0., 1., 0., 0., 0., 1., 0.],\n",
       "        [0., 1., 1., 0., 0., 1., 0., 0., 0., 0., 1.],\n",
       "        [0., 1., 1., 0., 0., 1., 0., 0., 0., 0., 1.],\n",
       "        [1., 0., 1., 0., 0., 0., 1., 0., 0., 1., 0.],\n",
       "        [1., 0., 1., 0., 0., 0., 0., 1., 0., 1., 0.],\n",
       "        [1., 0., 0., 1., 0., 0., 0., 0., 1., 1., 0.],\n",
       "        [1., 0., 0., 1., 0., 1., 0., 0., 0., 1., 0.],\n",
       "        [1., 0., 1., 0., 0., 0., 0., 1., 0., 0., 1.],\n",
       "        [1., 0., 0., 1., 0., 1., 0., 0., 0., 1., 0.]]),\n",
       " array(['node-caps_no', 'node-caps_yes', 'breast_left', 'breast_right',\n",
       "        'breast-quad_central', 'breast-quad_left_low',\n",
       "        'breast-quad_left_up', 'breast-quad_right_low',\n",
       "        'breast-quad_right_up', 'irradiat_no', 'irradiat_yes'],\n",
       "       dtype=object))"
      ]
     },
     "execution_count": 9,
     "metadata": {},
     "output_type": "execute_result"
    }
   ],
   "source": [
    "ohe = OneHotEncoder(sparse_output=False,handle_unknown='ignore')\n",
    "\n",
    "ohe_cols = ['node-caps','breast', 'breast-quad','irradiat']\n",
    "\n",
    "ohe.fit(X_train[ohe_cols])\n",
    "\n",
    "X_test_encoded = ohe.transform(X_test[ohe_cols])\n",
    "\n",
    "# Display the first 10 rows of the transformed test set and the feature names\n",
    "X_test_encoded[:10], ohe.get_feature_names_out(ohe_cols)\n"
   ]
  },
  {
   "cell_type": "code",
   "execution_count": 24,
   "id": "ffa1a561-baf8-46e3-b579-a98f5afc681c",
   "metadata": {},
   "outputs": [
    {
     "ename": "IndexError",
     "evalue": "only integers, slices (`:`), ellipsis (`...`), numpy.newaxis (`None`) and integer or boolean arrays are valid indices",
     "output_type": "error",
     "traceback": [
      "\u001b[0;31m---------------------------------------------------------------------------\u001b[0m",
      "\u001b[0;31mIndexError\u001b[0m                                Traceback (most recent call last)",
      "Cell \u001b[0;32mIn[24], line 17\u001b[0m\n\u001b[1;32m     14\u001b[0m ordinal_cols \u001b[38;5;241m=\u001b[39m [\u001b[38;5;124m\"\u001b[39m\u001b[38;5;124mmenopause\u001b[39m\u001b[38;5;124m\"\u001b[39m, \u001b[38;5;124m\"\u001b[39m\u001b[38;5;124mage\u001b[39m\u001b[38;5;124m\"\u001b[39m, \u001b[38;5;124m\"\u001b[39m\u001b[38;5;124mtumor-size\u001b[39m\u001b[38;5;124m\"\u001b[39m, \u001b[38;5;124m\"\u001b[39m\u001b[38;5;124minv-nodes\u001b[39m\u001b[38;5;124m\"\u001b[39m, \u001b[38;5;124m\"\u001b[39m\u001b[38;5;124mdeg-malig\u001b[39m\u001b[38;5;124m\"\u001b[39m]\n\u001b[1;32m     16\u001b[0m \u001b[38;5;66;03m# Fit the encoder on the train set\u001b[39;00m\n\u001b[0;32m---> 17\u001b[0m oe\u001b[38;5;241m.\u001b[39mfit(\u001b[43mX_train\u001b[49m\u001b[43m[\u001b[49m\u001b[43mordinal_cols\u001b[49m\u001b[43m]\u001b[49m)\n\u001b[1;32m     19\u001b[0m \u001b[38;5;66;03m# Transform the test set\u001b[39;00m\n\u001b[1;32m     20\u001b[0m X_test_ordinal_encoded \u001b[38;5;241m=\u001b[39m oe\u001b[38;5;241m.\u001b[39mtransform(X_test[ordinal_cols])\n",
      "\u001b[0;31mIndexError\u001b[0m: only integers, slices (`:`), ellipsis (`...`), numpy.newaxis (`None`) and integer or boolean arrays are valid indices"
     ]
    }
   ],
   "source": [
    "# Specifying the order for each ordinal feature\n",
    "categories_order = [\n",
    "    ['lt40', 'premeno', 'ge40'],  # menopause\n",
    "    ['20-29', '30-39', '40-49', '50-59', '60-69', '70-79', '80-89', '90-99'],  # age\n",
    "    ['0-4', '5-9', '10-14', '15-19', '20-24', '25-29', '30-34', '35-39', '40-44', '45-49', '50-54', '55-59'],  # tumor-size\n",
    "    ['0-2', '3-5', '6-8', '9-11', '12-14', '15-17', '18-20', '21-23', '24-26', '27-29', '30-32', '33-35', '36-39'],  # inv-nodes\n",
    "    [1, 2, 3]  # deg-malig\n",
    "]\n",
    "\n",
    "# Create an OrdinalEncoder with the specified categories\n",
    "oe = OrdinalEncoder(categories=categories_order)\n",
    "\n",
    "# Specifying the ordinal columns\n",
    "ordinal_cols = [\"menopause\", \"age\", \"tumor-size\", \"inv-nodes\", \"deg-malig\"]\n",
    "\n",
    "# Fit the encoder on the train set\n",
    "oe.fit(X_train[ordinal_cols])\n",
    "\n",
    "# Transform the test set\n",
    "X_test_ordinal_encoded = oe.transform(X_test[ordinal_cols])\n",
    "\n",
    "# Display the first 5 rows of the transformed test set\n",
    "X_test_ordinal_encoded[:10]\n"
   ]
  },
  {
   "cell_type": "code",
   "execution_count": 14,
   "id": "7c79dd8f-9c99-42e1-8535-7d6c64d0fe7c",
   "metadata": {},
   "outputs": [
    {
     "data": {
      "text/plain": [
       "array([[1., 0., 1., 0., 0., 1., 0., 0., 0., 1., 0., 2., 4., 2., 0., 1.],\n",
       "       [1., 0., 1., 0., 0., 1., 0., 0., 0., 1., 0., 2., 4., 2., 0., 0.],\n",
       "       [0., 1., 1., 0., 0., 1., 0., 0., 0., 0., 1., 2., 4., 4., 5., 2.],\n",
       "       [0., 1., 1., 0., 0., 1., 0., 0., 0., 0., 1., 1., 3., 5., 1., 1.],\n",
       "       [1., 0., 1., 0., 0., 0., 1., 0., 0., 1., 0., 2., 4., 5., 0., 2.]])"
      ]
     },
     "execution_count": 14,
     "metadata": {},
     "output_type": "execute_result"
    }
   ],
   "source": [
    "# Combine the two encoders using make_column_transformer\n",
    "# Note: We use the previously defined OneHotEncoder `ohe` and OrdinalEncoder `oe_corrected`\n",
    "column_transformer = make_column_transformer(\n",
    "    (ohe, ohe_cols),\n",
    "    (oe, ordinal_cols),\n",
    "    remainder='passthrough'\n",
    ")\n",
    "\n",
    "# Fit the column transformer on the train set\n",
    "column_transformer.fit(X_train)\n",
    "\n",
    "# Transform the test set\n",
    "X_test_transformed = column_transformer.transform(X_test)\n",
    "\n",
    "# Display the first 5 rows of the transformed test set\n",
    "X_test_transformed[:5]\n",
    "\n"
   ]
  },
  {
   "cell_type": "markdown",
   "id": "bcd51d0e-baab-442b-82b9-a0ef6978e2ad",
   "metadata": {},
   "source": [
    "## Exercise 6: Pipeline\n"
   ]
  },
  {
   "cell_type": "code",
   "execution_count": 21,
   "id": "06082355-26eb-45ef-be1b-4237d689437b",
   "metadata": {},
   "outputs": [],
   "source": [
    "from sklearn.datasets import load_iris\n",
    "\n",
    "iris = load_iris()\n",
    "X, y = iris['data'], iris['target']\n",
    "\n",
    "#add missing values\n",
    "X[[1,20,50,100,135], 0] = np.nan\n",
    "X[[2,5,88,135], 1] = np.nan\n",
    "X[[4,15], 2] = np.nan\n",
    "X[[40,135], 3] = np.nan"
   ]
  },
  {
   "cell_type": "code",
   "execution_count": 22,
   "id": "522b996c-46a7-4c45-b15a-bef2960d048e",
   "metadata": {},
   "outputs": [],
   "source": [
    "X_train, X_test, y_train, y_test = train_test_split(X, y, test_size=0.33, random_state=43)"
   ]
  },
  {
   "cell_type": "code",
   "execution_count": 28,
   "id": "ed1be6f4-2f1e-4593-b9c0-9ef904cfdc32",
   "metadata": {},
   "outputs": [],
   "source": [
    "# Create a pipeline\n",
    "pipeline = Pipeline([\n",
    "    ('imputer', SimpleImputer(strategy='median')),\n",
    "    ('scaler', StandardScaler()),\n",
    "    ('classifier', LogisticRegression())\n",
    "])"
   ]
  },
  {
   "cell_type": "code",
   "execution_count": 30,
   "id": "7b7b28ca-c43b-41eb-99da-0136caa88d35",
   "metadata": {},
   "outputs": [
    {
     "data": {
      "text/plain": [
       "0.98"
      ]
     },
     "execution_count": 30,
     "metadata": {},
     "output_type": "execute_result"
    }
   ],
   "source": [
    "pipeline.fit(X_train, y_train)\n",
    "\n",
    "# Make predictions\n",
    "y_pred = pipeline.predict(X_test)\n",
    "\n",
    "# Evaluate the model\n",
    "score = pipeline.score(X_test, y_test)\n",
    "\n",
    "score"
   ]
  },
  {
   "cell_type": "code",
   "execution_count": null,
   "id": "50718056-8cae-47ec-abcb-9080af5fe0f4",
   "metadata": {},
   "outputs": [],
   "source": []
  }
 ],
 "metadata": {
  "kernelspec": {
   "display_name": "Python 3 (ipykernel)",
   "language": "python",
   "name": "python3"
  },
  "language_info": {
   "codemirror_mode": {
    "name": "ipython",
    "version": 3
   },
   "file_extension": ".py",
   "mimetype": "text/x-python",
   "name": "python",
   "nbconvert_exporter": "python",
   "pygments_lexer": "ipython3",
   "version": "3.11.7"
  }
 },
 "nbformat": 4,
 "nbformat_minor": 5
}
