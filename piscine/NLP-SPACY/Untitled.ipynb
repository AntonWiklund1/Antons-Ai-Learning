{
 "cells": [
  {
   "cell_type": "code",
   "execution_count": 32,
   "id": "6624554d-d831-42f1-b1c6-100b83baa405",
   "metadata": {},
   "outputs": [],
   "source": [
    "import jupyter\n",
    "import pandas as pd\n",
    "import spacy\n",
    "import numpy as np"
   ]
  },
  {
   "cell_type": "code",
   "execution_count": 12,
   "id": "4c5acf6b-c5fa-4050-abe3-60967b448b6d",
   "metadata": {},
   "outputs": [
    {
     "name": "stdout",
     "output_type": "stream",
     "text": [
      "3.4.1\n"
     ]
    }
   ],
   "source": [
    "nlp = spacy.load(\"en_core_web_sm\")\n",
    "print(nlp.meta[\"version\"])\n"
   ]
  },
  {
   "cell_type": "markdown",
   "id": "1ea31319-d7f6-4cca-9213-7de955fc2165",
   "metadata": {},
   "source": [
    "## Exercise 1: Embedding 1"
   ]
  },
  {
   "cell_type": "code",
   "execution_count": 17,
   "id": "6b301b80-7583-46ba-b7aa-c757b90c501a",
   "metadata": {},
   "outputs": [
    {
     "name": "stdout",
     "output_type": "stream",
     "text": [
      "(96,)\n"
     ]
    }
   ],
   "source": [
    "nlp = spacy.load(\"en_core_web_sm\")\n",
    "\n",
    "\n",
    "# Embed the word \"car\"\n",
    "car = nlp(\"car\")\n",
    "\n",
    "# Access the vector for the word \"car\"\n",
    "car_vector = car.vector\n",
    "\n",
    "# Print out the shape of the car vector\n",
    "print(car_vector.shape)"
   ]
  },
  {
   "cell_type": "code",
   "execution_count": 19,
   "id": "a95559e3-784c-4662-894c-d3f0df1f0561",
   "metadata": {},
   "outputs": [
    {
     "name": "stdout",
     "output_type": "stream",
     "text": [
      "2.979017451405525\n",
      "(199918477, 67108864)\n"
     ]
    }
   ],
   "source": [
    "# Sum the first 20 values of the car vector\n",
    "sum_first_20 = sum(car_vector[:20])\n",
    "\n",
    "print(sum_first_20)\n",
    "\n",
    "# Print out the sum using float.as_integer_ratio()\n",
    "print(sum_first_20.as_integer_ratio())"
   ]
  },
  {
   "cell_type": "code",
   "execution_count": 21,
   "id": "3b04653b-d4f1-4b06-8644-0c10b781e758",
   "metadata": {},
   "outputs": [
    {
     "data": {
      "text/plain": [
       "(2.9790137708187103, 2.979017451405525)"
      ]
     },
     "execution_count": 21,
     "metadata": {},
     "output_type": "execute_result"
    }
   ],
   "source": [
    "# Calculate the floating-point value from both ratios\n",
    "expected_ratio = (99959115, 33554432)\n",
    "observed_ratio = (199918477, 67108864)\n",
    "\n",
    "# Convert ratios to floats\n",
    "expected_float = expected_ratio[0] / expected_ratio[1]\n",
    "observed_float = observed_ratio[0] / observed_ratio[1]\n",
    "\n",
    "expected_float, observed_float"
   ]
  },
  {
   "cell_type": "markdown",
   "id": "3c693543-922c-4629-9bc9-8363dc0a6e99",
   "metadata": {},
   "source": [
    "The calculations show that both the expected (99959115, 33554432) and observed \n",
    "(199918477, 67108864) ratios convert to floating-point values that are extremely close to each other:\n",
    "approximately 2.9790. This small discrepancy between the two floating-point values is likely due to the precision limitations inherent in floating-point arithmetic"
   ]
  },
  {
   "cell_type": "markdown",
   "id": "bccdbc4b-2121-4885-af46-27cf633e7b7d",
   "metadata": {},
   "source": [
    "## Exercise 2: Tokenization"
   ]
  },
  {
   "cell_type": "code",
   "execution_count": 29,
   "id": "00ad9741-e8f8-45d2-8873-657db07c4845",
   "metadata": {},
   "outputs": [
    {
     "name": "stdout",
     "output_type": "stream",
     "text": [
      "Tokenize\n",
      "this\n",
      "sentence\n",
      ".\n",
      "And\n",
      "this\n",
      "one\n",
      "too\n",
      ".\n"
     ]
    }
   ],
   "source": [
    "# Your text\n",
    "text = \"Tokenize this sentence. And this one too.\"\n",
    "\n",
    "# Process the text\n",
    "doc = nlp(text)\n",
    "\n",
    "# Iterate over tokens in the doc\n",
    "tokens = [token.text for token in doc]\n",
    "\n",
    "for token in tokens:\n",
    "    print(token)\n",
    "\n"
   ]
  },
  {
   "cell_type": "markdown",
   "id": "008d7848-5b1d-4ac7-b17f-443b52c261a4",
   "metadata": {},
   "source": [
    "## Exercise 3: Embeddings 2"
   ]
  },
  {
   "cell_type": "code",
   "execution_count": 34,
   "id": "2e211862-2a72-42e9-89e7-68f2559816aa",
   "metadata": {},
   "outputs": [
    {
     "name": "stdout",
     "output_type": "stream",
     "text": [
      "\u001b[33mDEPRECATION: https://github.com/explosion/spacy-models/releases/download/en_core_web_md-3.4.1/en_core_web_md-3.4.1-py3-none-any.whl#egg=en_core_web_md==3.4.1 contains an egg fragment with a non-PEP 508 name pip 25.0 will enforce this behaviour change. A possible replacement is to use the req @ url syntax, and remove the egg fragment. Discussion can be found at https://github.com/pypa/pip/issues/11617\u001b[0m\u001b[33m\n",
      "\u001b[0mCollecting en-core-web-md==3.4.1\n",
      "  Downloading https://github.com/explosion/spacy-models/releases/download/en_core_web_md-3.4.1/en_core_web_md-3.4.1-py3-none-any.whl (42.8 MB)\n",
      "\u001b[2K     \u001b[38;2;114;156;31m━━━━━━━━━━━━━━━━━━━━━━━━━━━━━━━━━━━━━━━━\u001b[0m \u001b[32m42.8/42.8 MB\u001b[0m \u001b[31m8.7 MB/s\u001b[0m eta \u001b[36m0:00:00\u001b[0mm eta \u001b[36m0:00:01\u001b[0m[36m0:00:01\u001b[0m\n",
      "\u001b[?25hRequirement already satisfied: spacy<3.5.0,>=3.4.0 in ./ex00/lib/python3.10/site-packages (from en-core-web-md==3.4.1) (3.4.0)\n",
      "Requirement already satisfied: spacy-legacy<3.1.0,>=3.0.9 in ./ex00/lib/python3.10/site-packages (from spacy<3.5.0,>=3.4.0->en-core-web-md==3.4.1) (3.0.12)\n",
      "Requirement already satisfied: spacy-loggers<2.0.0,>=1.0.0 in ./ex00/lib/python3.10/site-packages (from spacy<3.5.0,>=3.4.0->en-core-web-md==3.4.1) (1.0.5)\n",
      "Requirement already satisfied: murmurhash<1.1.0,>=0.28.0 in ./ex00/lib/python3.10/site-packages (from spacy<3.5.0,>=3.4.0->en-core-web-md==3.4.1) (1.0.10)\n",
      "Requirement already satisfied: cymem<2.1.0,>=2.0.2 in ./ex00/lib/python3.10/site-packages (from spacy<3.5.0,>=3.4.0->en-core-web-md==3.4.1) (2.0.8)\n",
      "Requirement already satisfied: preshed<3.1.0,>=3.0.2 in ./ex00/lib/python3.10/site-packages (from spacy<3.5.0,>=3.4.0->en-core-web-md==3.4.1) (3.0.9)\n",
      "Requirement already satisfied: thinc<8.2.0,>=8.1.0 in ./ex00/lib/python3.10/site-packages (from spacy<3.5.0,>=3.4.0->en-core-web-md==3.4.1) (8.1.12)\n",
      "Requirement already satisfied: wasabi<1.1.0,>=0.9.1 in ./ex00/lib/python3.10/site-packages (from spacy<3.5.0,>=3.4.0->en-core-web-md==3.4.1) (0.10.1)\n",
      "Requirement already satisfied: srsly<3.0.0,>=2.4.3 in ./ex00/lib/python3.10/site-packages (from spacy<3.5.0,>=3.4.0->en-core-web-md==3.4.1) (2.4.8)\n",
      "Requirement already satisfied: catalogue<2.1.0,>=2.0.6 in ./ex00/lib/python3.10/site-packages (from spacy<3.5.0,>=3.4.0->en-core-web-md==3.4.1) (2.0.10)\n",
      "Requirement already satisfied: typer<0.5.0,>=0.3.0 in ./ex00/lib/python3.10/site-packages (from spacy<3.5.0,>=3.4.0->en-core-web-md==3.4.1) (0.4.2)\n",
      "Requirement already satisfied: pathy>=0.3.5 in ./ex00/lib/python3.10/site-packages (from spacy<3.5.0,>=3.4.0->en-core-web-md==3.4.1) (0.11.0)\n",
      "Requirement already satisfied: tqdm<5.0.0,>=4.38.0 in ./ex00/lib/python3.10/site-packages (from spacy<3.5.0,>=3.4.0->en-core-web-md==3.4.1) (4.66.2)\n",
      "Requirement already satisfied: numpy>=1.15.0 in ./ex00/lib/python3.10/site-packages (from spacy<3.5.0,>=3.4.0->en-core-web-md==3.4.1) (1.24.4)\n",
      "Requirement already satisfied: requests<3.0.0,>=2.13.0 in ./ex00/lib/python3.10/site-packages (from spacy<3.5.0,>=3.4.0->en-core-web-md==3.4.1) (2.31.0)\n",
      "Requirement already satisfied: pydantic!=1.8,!=1.8.1,<1.10.0,>=1.7.4 in ./ex00/lib/python3.10/site-packages (from spacy<3.5.0,>=3.4.0->en-core-web-md==3.4.1) (1.9.2)\n",
      "Requirement already satisfied: jinja2 in ./ex00/lib/python3.10/site-packages (from spacy<3.5.0,>=3.4.0->en-core-web-md==3.4.1) (3.1.3)\n",
      "Requirement already satisfied: setuptools in ./ex00/lib/python3.10/site-packages (from spacy<3.5.0,>=3.4.0->en-core-web-md==3.4.1) (68.2.2)\n",
      "Requirement already satisfied: packaging>=20.0 in ./ex00/lib/python3.10/site-packages (from spacy<3.5.0,>=3.4.0->en-core-web-md==3.4.1) (23.2)\n",
      "Requirement already satisfied: langcodes<4.0.0,>=3.2.0 in ./ex00/lib/python3.10/site-packages (from spacy<3.5.0,>=3.4.0->en-core-web-md==3.4.1) (3.3.0)\n",
      "Requirement already satisfied: smart-open<7.0.0,>=5.2.1 in ./ex00/lib/python3.10/site-packages (from pathy>=0.3.5->spacy<3.5.0,>=3.4.0->en-core-web-md==3.4.1) (6.4.0)\n",
      "Requirement already satisfied: pathlib-abc==0.1.1 in ./ex00/lib/python3.10/site-packages (from pathy>=0.3.5->spacy<3.5.0,>=3.4.0->en-core-web-md==3.4.1) (0.1.1)\n",
      "Requirement already satisfied: typing-extensions>=3.7.4.3 in ./ex00/lib/python3.10/site-packages (from pydantic!=1.8,!=1.8.1,<1.10.0,>=1.7.4->spacy<3.5.0,>=3.4.0->en-core-web-md==3.4.1) (4.9.0)\n",
      "Requirement already satisfied: charset-normalizer<4,>=2 in ./ex00/lib/python3.10/site-packages (from requests<3.0.0,>=2.13.0->spacy<3.5.0,>=3.4.0->en-core-web-md==3.4.1) (3.3.2)\n",
      "Requirement already satisfied: idna<4,>=2.5 in ./ex00/lib/python3.10/site-packages (from requests<3.0.0,>=2.13.0->spacy<3.5.0,>=3.4.0->en-core-web-md==3.4.1) (3.6)\n",
      "Requirement already satisfied: urllib3<3,>=1.21.1 in ./ex00/lib/python3.10/site-packages (from requests<3.0.0,>=2.13.0->spacy<3.5.0,>=3.4.0->en-core-web-md==3.4.1) (2.2.1)\n",
      "Requirement already satisfied: certifi>=2017.4.17 in ./ex00/lib/python3.10/site-packages (from requests<3.0.0,>=2.13.0->spacy<3.5.0,>=3.4.0->en-core-web-md==3.4.1) (2024.2.2)\n",
      "Requirement already satisfied: blis<0.8.0,>=0.7.8 in ./ex00/lib/python3.10/site-packages (from thinc<8.2.0,>=8.1.0->spacy<3.5.0,>=3.4.0->en-core-web-md==3.4.1) (0.7.11)\n",
      "Requirement already satisfied: confection<1.0.0,>=0.0.1 in ./ex00/lib/python3.10/site-packages (from thinc<8.2.0,>=8.1.0->spacy<3.5.0,>=3.4.0->en-core-web-md==3.4.1) (0.1.4)\n",
      "Requirement already satisfied: click<9.0.0,>=7.1.1 in ./ex00/lib/python3.10/site-packages (from typer<0.5.0,>=0.3.0->spacy<3.5.0,>=3.4.0->en-core-web-md==3.4.1) (8.1.7)\n",
      "Requirement already satisfied: MarkupSafe>=2.0 in ./ex00/lib/python3.10/site-packages (from jinja2->spacy<3.5.0,>=3.4.0->en-core-web-md==3.4.1) (2.1.5)\n",
      "Installing collected packages: en-core-web-md\n",
      "Successfully installed en-core-web-md-3.4.1\n",
      "\n",
      "\u001b[1m[\u001b[0m\u001b[34;49mnotice\u001b[0m\u001b[1;39;49m]\u001b[0m\u001b[39;49m A new release of pip is available: \u001b[0m\u001b[31;49m23.3.1\u001b[0m\u001b[39;49m -> \u001b[0m\u001b[32;49m24.0\u001b[0m\n",
      "\u001b[1m[\u001b[0m\u001b[34;49mnotice\u001b[0m\u001b[1;39;49m]\u001b[0m\u001b[39;49m To update, run: \u001b[0m\u001b[32;49mpip install --upgrade pip\u001b[0m\n",
      "\u001b[38;5;2m✔ Download and installation successful\u001b[0m\n",
      "You can now load the package via spacy.load('en_core_web_md')\n"
     ]
    }
   ],
   "source": [
    "!python -m spacy download en_core_web_md"
   ]
  },
  {
   "cell_type": "code",
   "execution_count": 50,
   "id": "49706abd-97f4-4311-9c67-2ad13deee7a8",
   "metadata": {},
   "outputs": [
    {
     "data": {
      "text/plain": [
       "5.710388891398907"
      ]
     },
     "execution_count": 50,
     "metadata": {},
     "output_type": "execute_result"
    }
   ],
   "source": [
    "# Your sentence\n",
    "nlp = spacy.load(\"en_core_web_md\")  # Make sure you have this version installed\n",
    "\n",
    "# Tokenize the sentence and compute the embeddings\n",
    "doc = nlp(\"laptop computer coffee tea water liquid dog cat kitty\")\n",
    "\n",
    "embedding_sum = sum(doc[0].vector[:20])\n",
    "\n",
    "embedding_sum"
   ]
  },
  {
   "cell_type": "code",
   "execution_count": 52,
   "id": "48d1c8da-e785-47cd-8304-d34675d58adf",
   "metadata": {},
   "outputs": [
    {
     "name": "stdout",
     "output_type": "stream",
     "text": [
      "Embeddings_shapes: \n",
      " [(300,), (300,), (300,), (300,), (300,), (300,), (300,), (300,), (300,)]\n",
      "\n",
      "\n",
      "The sum of the first 20 values of the embedding of laptop: \n",
      " 5.710388\n",
      "\n",
      "\n"
     ]
    },
    {
     "data": {
      "image/png": "[encoded data removed]",
      "text/plain": [
       "<Figure size 1500x800 with 2 Axes>"
      ]
     },
     "metadata": {},
     "output_type": "display_data"
    }
   ],
   "source": [
    "\n",
    "import spacy\n",
    "import numpy as np\n",
    "import seaborn as sns\n",
    "import matplotlib.pyplot as plt\n",
    "\n",
    "# Load the medium English model\n",
    "nlp = spacy.load(\"en_core_web_md\")\n",
    "\n",
    "# The given sentence\n",
    "sentence = \"laptop computer coffee tea water liquid dog cat kitty\"\n",
    "\n",
    "# Process the sentence to get the tokens\n",
    "tokens = nlp(sentence)\n",
    "\n",
    "# Compute the embeddings and store them in an array\n",
    "embeddings = np.array([token.vector for token in tokens])\n",
    "\n",
    "# Check if each embedding has the shape of (300,)\n",
    "embeddings_shapes = [emb.shape for emb in embeddings]\n",
    "print(\"Embeddings_shapes: \\n\", embeddings_shapes)\n",
    "print(\"\\n\")\n",
    "\n",
    "# Calculate the sum of the first 20 values of the 'laptop' embedding\n",
    "laptop_first_20_sum = np.sum(embeddings[0][:20])\n",
    "print(\"The sum of the first 20 values of the embedding of laptop: \\n\", laptop_first_20_sum)\n",
    "print(\"\\n\")\n",
    "\n",
    "# Calculate the pairwise cosine distances\n",
    "from scipy.spatial.distance import pdist, squareform\n",
    "\n",
    "# Compute the cosine distances which gives us a condensed distance matrix\n",
    "cosine_distances = pdist(embeddings, metric='cosine')\n",
    "\n",
    "# Convert the condensed distance matrix to a square matrix\n",
    "square_cosine_distances = squareform(cosine_distances)\n",
    "\n",
    "# Convert the tokens to strings for labeling\n",
    "token_texts = [token.text for token in tokens]\n",
    "\n",
    "# Plot the heatmap with correct labels\n",
    "\n",
    "# Define the size of the figure\n",
    "plt.figure(figsize=(15, 8))\n",
    "\n",
    "# Reverse the order of the tokens for the y-axis\n",
    "token_texts_y = list(reversed(token_texts))\n",
    "\n",
    "# Reverse the square_cosine_distances matrix along the y-axis\n",
    "square_cosine_distances_reversed = square_cosine_distances[::-1]\n",
    "\n",
    "# Plot the heatmap with the adjusted color map and reversed y-axis\n",
    "sns.heatmap(square_cosine_distances_reversed, fmt=\".2f\", cmap=\"plasma\",\n",
    "            xticklabels=token_texts, yticklabels=token_texts_y)\n",
    "\n",
    "# Title of the heatmap\n",
    "plt.title('Cosine distance between words')\n",
    "\n",
    "# Display the heatmap\n",
    "plt.show()\n",
    "     "
   ]
  },
  {
   "cell_type": "markdown",
   "id": "1c0074b3-d4c2-489b-aa8a-8e14582f152c",
   "metadata": {},
   "source": [
    "## Exercise 4: Sentences' similarity"
   ]
  },
  {
   "cell_type": "code",
   "execution_count": 54,
   "id": "f9aafe98-ea06-486f-8edd-d9bd08857ff7",
   "metadata": {},
   "outputs": [
    {
     "name": "stdout",
     "output_type": "stream",
     "text": [
      "Similarity between sentence 1 and 2: 0.6591542117284649\n",
      "Similarity between sentence 1 and 3: 0.4167052551236612\n",
      "Similarity between sentence 2 and 3: 0.2896134562238202\n"
     ]
    }
   ],
   "source": [
    "# Load the small English model\n",
    "nlp = spacy.load(\"en_core_web_sm\")\n",
    "\n",
    "# Define the sentences\n",
    "sentence_texts = [\n",
    "    \"I want to buy shoes\",\n",
    "    \"I would love to purchase running shoes\",\n",
    "    \"I am in my room\"\n",
    "]\n",
    "\n",
    "# Process the sentences to get the tokens and then compute the average vector for each sentence\n",
    "sentence_vectors = np.array([nlp(sentence).vector for sentence in sentence_texts])\n",
    "\n",
    "# Calculate the pairwise cosine similarity (instead of cosine distances)\n",
    "from scipy.spatial.distance import cosine\n",
    "\n",
    "# Function to compute cosine similarity\n",
    "def compute_cosine_similarity(vec1, vec2):\n",
    "    # Compute cosine distance and then take its complement to get similarity\n",
    "    return 1 - cosine(vec1, vec2)\n",
    "\n",
    "# Compute the similarities\n",
    "similarity_1_2 = compute_cosine_similarity(sentence_vectors[0], sentence_vectors[1])\n",
    "similarity_1_3 = compute_cosine_similarity(sentence_vectors[0], sentence_vectors[2])\n",
    "similarity_2_3 = compute_cosine_similarity(sentence_vectors[1], sentence_vectors[2])\n",
    "\n",
    "print(f\"Similarity between sentence 1 and 2: {similarity_1_2}\")\n",
    "print(f\"Similarity between sentence 1 and 3: {similarity_1_3}\")\n",
    "print(f\"Similarity between sentence 2 and 3: {similarity_2_3}\")\n"
   ]
  },
  {
   "cell_type": "markdown",
   "id": "2cb0fe73-2c11-4722-97a0-0f0319472a6f",
   "metadata": {},
   "source": [
    "## Exercise 5: NER"
   ]
  },
  {
   "cell_type": "code",
   "execution_count": 57,
   "id": "ffadfd5c-8fcf-46e7-8ce5-8c1131604783",
   "metadata": {},
   "outputs": [
    {
     "name": "stdout",
     "output_type": "stream",
     "text": [
      "Apple Inc. ORG\n",
      "American NORP\n",
      "Cupertino GPE\n",
      "California GPE\n",
      "Five CARDINAL\n",
      "U.S. GPE\n",
      "Amazon ORG\n",
      "Google ORG\n",
      "Microsoft ORG\n",
      "Facebook ORG\n",
      "Steve Jobs PERSON\n",
      "Steve Wozniak PERSON\n",
      "Ronald Wayne PERSON\n",
      "April 1976 DATE\n",
      "Wozniak PERSON\n",
      "Wayne PERSON\n",
      "12 days DATE\n",
      "Apple Computer, Inc. ORG\n",
      "January 1977 DATE\n",
      "the Apple I and Apple II ORG\n"
     ]
    }
   ],
   "source": [
    "nlp = spacy.load(\"en_core_web_sm\")\n",
    "\n",
    "\n",
    "text = \"Apple Inc. is an American multinational technology company headquartered in Cupertino, California, that designs, develops, and sells consumer electronics, computer software, and online services. It is considered one of the Big Five companies in the U.S. information technology industry, along with Amazon, Google, Microsoft, and Facebook.Apple was founded by Steve Jobs, Steve Wozniak, and Ronald Wayne in April 1976 to develop and sell Wozniak's Apple I personal computer, though Wayne sold his share back within 12 days. It was incorporated as Apple Computer, Inc., in January 1977, and sales of its computers, including the Apple I and Apple II, grew quickly.\"\n",
    "# Process the text\n",
    "doc = nlp(text)\n",
    "\n",
    "# Extract entities and their labels\n",
    "entities = [(entity.text, entity.label_) for entity in doc.ents]\n",
    "\n",
    "for entity, label in entities:\n",
    "    print(f\"{entity} {label}\")"
   ]
  },
  {
   "cell_type": "code",
   "execution_count": 60,
   "id": "06a1d5f8-d09c-492d-87c9-80593079fe8a",
   "metadata": {},
   "outputs": [
    {
     "name": "stdout",
     "output_type": "stream",
     "text": [
      "Paul 1 5 PERSON\n",
      "Apple 50 55 ORG\n"
     ]
    }
   ],
   "source": [
    "# Sentence for NER disambiguation\n",
    "sentence = \"Paul eats an apple while watching a movie on his Apple device.\"\n",
    "\n",
    "# Process the sentence\n",
    "doc = nlp(sentence)\n",
    "\n",
    "# Extract named entities, start_char, end_char, and their labels\n",
    "entities_sentence = [(entity.text, entity.start_char, entity.end_char, entity.label_) for entity in doc.ents]\n",
    "\n",
    "for entity, start_char, end_char, label in entities_sentence:\n",
    "    print(f\"{entity} {start_char + 1} {end_char + 1} {label}\")"
   ]
  },
  {
   "cell_type": "markdown",
   "id": "7f29ea18-acf4-4377-a424-956778fe2ca1",
   "metadata": {},
   "source": [
    "## Exercise 6: Part-of-speech tags"
   ]
  },
  {
   "cell_type": "code",
   "execution_count": 63,
   "id": "29b91801-2e3a-4d01-982e-cab20ad6a480",
   "metadata": {},
   "outputs": [
    {
     "name": "stdout",
     "output_type": "stream",
     "text": [
      "INFO:  Bezos PROPN NNP\n",
      "Sentence: Amazon (AMZN) enters 2021 with plenty of big opportunities, but is losing its lauded Chief Executive Jeff Bezos, who announced his plan to step aside in the third quarter.\n",
      "\n",
      "INFO:  Bezos PROPN NNP\n",
      "Sentence: Bezos will hand off his role as chief executive to Andy Jassy, the CEO of its cloud computing unit.\n",
      "\n",
      "INFO:  Bezos PROPN NNP\n",
      "Sentence: He's not leaving, as Bezos will transition to the role of Executive Chairman and remain active.\n",
      "\n",
      "INFO:  Bezos PROPN NNP\n",
      "Sentence: \"When you look at our financial results, what you're actually seeing are the long-run cumulative results of invention,\" Bezos said in written remarks with the Amazon earnings release.\n",
      "\n"
     ]
    }
   ],
   "source": [
    "import spacy\n",
    "\n",
    "# Load the spaCy model\n",
    "nlp = spacy.load(\"en_core_web_md\")\n",
    "\n",
    "# Read text from 'news_amazon.txt'\n",
    "with open('news_amazon.txt', 'r') as file:\n",
    "    text = file.read()\n",
    "\n",
    "# Process the text with spaCy\n",
    "doc = nlp(text)\n",
    "\n",
    "# Find sentences containing 'Bezos' tagged as a proper noun (PROPN)\n",
    "bezos_sentences = [sent.text for sent in doc.sents if any(token.text == \"Bezos\" and token.pos_ == \"PROPN\" for token in sent)]\n",
    "\n",
    "# Print the sentences\n",
    "for sentence in bezos_sentences:\n",
    "    print(\"INFO:  Bezos PROPN NNP\")\n",
    "    print(f\"Sentence: {sentence}\\n\")\n"
   ]
  },
  {
   "cell_type": "code",
   "execution_count": null,
   "id": "d9ac80e8-947e-4f44-bae0-751fdd0a3f54",
   "metadata": {},
   "outputs": [],
   "source": []
  }
 ],
 "metadata": {
  "kernelspec": {
   "display_name": "Python 3 (ipykernel)",
   "language": "python",
   "name": "python3"
  },
  "language_info": {
   "codemirror_mode": {
    "name": "ipython",
    "version": 3
   },
   "file_extension": ".py",
   "mimetype": "text/x-python",
   "name": "python",
   "nbconvert_exporter": "python",
   "pygments_lexer": "ipython3",
   "version": "3.10.13"
  }
 },
 "nbformat": 4,
 "nbformat_minor": 5
}
