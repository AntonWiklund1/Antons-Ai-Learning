{
 "cells": [
  {
   "cell_type": "code",
   "execution_count": 5,
   "id": "b478827b-0d12-41cc-b1c8-710453aa8c7b",
   "metadata": {},
   "outputs": [],
   "source": [
    "import jupyter\n",
    "import numpy as np\n",
    "import pandas as pd\n",
    "import matplotlib \n",
    "import sklearn\n",
    "from sklearn.linear_model import LinearRegression\n",
    "from sklearn.datasets import make_regression\n",
    "import matplotlib.pyplot as plt\n",
    "from sklearn.model_selection import train_test_split\n",
    "from sklearn.datasets import load_diabetes\n",
    "from sklearn.metrics import mean_squared_error"
   ]
  },
  {
   "cell_type": "code",
   "execution_count": 7,
   "id": "ad3cea8e-2f1d-47e7-8319-4555b4ba6ce3",
   "metadata": {},
   "outputs": [],
   "source": [
    "diabetes = load_diabetes(as_frame=True)\n",
    "X, y = diabetes.data, diabetes.target"
   ]
  },
  {
   "cell_type": "code",
   "execution_count": 10,
   "id": "90f1b45e-70e6-4d09-9f2e-7a436de54189",
   "metadata": {},
   "outputs": [],
   "source": [
    "X_train, X_test, y_train, y_test = train_test_split(X, y, test_size=0.2, random_state=43)"
   ]
  },
  {
   "cell_type": "code",
   "execution_count": 13,
   "id": "feb052d9-f034-4888-9491-0be296143e57",
   "metadata": {},
   "outputs": [
    {
     "data": {
      "text/plain": [
       "array([111.74267934,  98.41608992, 168.36714629, 255.06351455,\n",
       "       168.44138847, 117.60698984, 198.8733865 , 126.2932775 ,\n",
       "       117.72876579, 224.82776308,  60.89750099, 217.77560107,\n",
       "       122.39054326, 159.6226935 , 122.74423136, 185.04709976,\n",
       "       152.54881698, 204.39419821, 182.10426416, 146.64150104,\n",
       "       173.33378432,  91.71155372, 188.6713284 , 232.28555945,\n",
       "       106.69866267, 123.63658047, 217.5711768 ,  90.32043743,\n",
       "        63.09230412, 177.67116476, 179.84307345,  67.39218092,\n",
       "       154.07033415,  84.98285033, 185.3007282 , 133.8378688 ,\n",
       "       107.17019164,  92.16696723,  72.56266067, 118.38022597,\n",
       "       188.6927578 , 180.35596015,  62.1417073 , 167.59668106,\n",
       "       281.99075212, 124.8785754 ,  69.45973295, 284.43154591,\n",
       "        62.26324635, 116.91946059, 210.89554682, 217.89907187,\n",
       "       194.09455343,  78.50024931,  99.86321669, 172.95767268,\n",
       "        91.41567104, 155.19776765, 223.116516  , 279.06524543,\n",
       "       226.97161686, 177.40664604, 125.58827889, 132.0288399 ,\n",
       "       227.13491489, 132.4136606 ,  89.06425851, 113.1201434 ,\n",
       "        31.62568631, 242.65609604, 106.81320651, 153.85953196,\n",
       "       150.66658574, 169.35105385, 105.80650294, 128.32431063,\n",
       "        46.33278429, 211.00903069,  49.1401842 , 252.88431015,\n",
       "        56.53720186, 171.14273734, 223.46037951, 180.8419692 ,\n",
       "       145.38114864, 190.5696584 , 174.83923041, 160.47437446,\n",
       "       152.12714359])"
      ]
     },
     "execution_count": 13,
     "metadata": {},
     "output_type": "execute_result"
    }
   ],
   "source": [
    "model = LinearRegression()\n",
    "model.fit(X_train, y_train)\n",
    "\n",
    "model.predict(X_test)"
   ]
  },
  {
   "cell_type": "code",
   "execution_count": null,
   "id": "f936215b-fdb0-446f-9c4d-57090ddfdd8a",
   "metadata": {},
   "outputs": [],
   "source": []
  }
 ],
 "metadata": {
  "kernelspec": {
   "display_name": "Python 3 (ipykernel)",
   "language": "python",
   "name": "python3"
  },
  "language_info": {
   "codemirror_mode": {
    "name": "ipython",
    "version": 3
   },
   "file_extension": ".py",
   "mimetype": "text/x-python",
   "name": "python",
   "nbconvert_exporter": "python",
   "pygments_lexer": "ipython3",
   "version": "3.9.10"
  }
 },
 "nbformat": 4,
 "nbformat_minor": 5
}
