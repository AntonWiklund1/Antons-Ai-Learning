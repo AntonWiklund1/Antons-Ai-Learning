{
 "cells": [
  {
   "cell_type": "code",
   "execution_count": null,
   "id": "c2f7b709-52c7-4454-89b7-4b0c35281d09",
   "metadata": {},
   "outputs": [],
   "source": [
    "import jupyter\n",
    "import numpy as np\n",
    "import pandas as pd\n",
    "import matplotlib \n",
    "import sklearn\n",
    "from sklearn.linear_model import LinearRegression\n",
    "from sklearn.datasets import make_regression\n",
    "import matplotlib.pyplot as plt\n",
    "from sklearn.model_selection import train_test_split\n",
    "from sklearn.datasets import load_diabetes\n",
    "from sklearn.metrics import mean_squared_error\n",
    "\n",
    "\n"
   ]
  },
  {
   "cell_type": "markdown",
   "id": "e72b0656-e861-460f-bce6-d56a74d79775",
   "metadata": {},
   "source": [
    "## Exercise 1: Scikit-learn estimator"
   ]
  },
  {
   "cell_type": "code",
   "execution_count": null,
   "id": "72b871f9-0df4-4131-ae4e-862c3d261935",
   "metadata": {},
   "outputs": [],
   "source": [
    "\n",
    "\n",
    "# Create data\n",
    "X = [[1], [2.1], [3]]\n",
    "y = [[1], [2], [3]]\n",
    "\n",
    "# Fit the model\n",
    "model = LinearRegression()\n",
    "model.fit(X, y)\n",
    "\n",
    "# Make predictions\n",
    "to_predict = [[4]]\n",
    "predicted = model.predict(to_predict)\n",
    "\n",
    "predicted"
   ]
  },
  {
   "cell_type": "code",
   "execution_count": null,
   "id": "5dad2078-388a-4b5e-b7d1-59fff8a4b72a",
   "metadata": {},
   "outputs": [],
   "source": [
    "# Print coefficients, intercept and score\n",
    "print(\"Coefficients:\", model.coef_) # This is the slope of the line, showing how much y increases for a one-unit increase in X.\n",
    "print(\"Intercept:\", model.intercept_) # This is the starting value of y when X is 0, acting as a small offset for the prediction.\n",
    "print(\"Score:\", model.score(X, y))"
   ]
  },
  {
   "cell_type": "markdown",
   "id": "22ef2e28-0f05-46c4-ad50-cb118623e8ec",
   "metadata": {},
   "source": [
    "## Exercise 2: Linear regression in 1D"
   ]
  },
  {
   "cell_type": "markdown",
   "id": "a9c3a505-fbaa-4f94-a3f1-122992554eda",
   "metadata": {},
   "source": [
    "### 1."
   ]
  },
  {
   "cell_type": "code",
   "execution_count": null,
   "id": "aea56f39-1e9b-42c3-9122-44b2d0a7cbee",
   "metadata": {},
   "outputs": [],
   "source": [
    "\n",
    "X, y, coef = make_regression(n_samples=100,\n",
    "                         n_features=1,\n",
    "                         n_informative=1,\n",
    "                         noise=10,\n",
    "                         coef=True,\n",
    "                         random_state=0,\n",
    "                         bias=100.0)\n",
    "\n",
    "plt.figure(figsize=(8, 6))\n",
    "plt.scatter(X, y, color='blue', label='Data points')\n",
    "plt.title('X (1 Dimensions) and y')\n",
    "plt.xlabel('X')\n",
    "plt.ylabel('y')\n",
    "plt.legend()\n",
    "plt.show()"
   ]
  },
  {
   "cell_type": "markdown",
   "id": "ed891d56-f8af-45c5-9f0b-77a19ccb2c46",
   "metadata": {},
   "source": [
    "### 2."
   ]
  },
  {
   "cell_type": "code",
   "execution_count": null,
   "id": "bede4092-6e9e-4608-9787-9d254995ef5b",
   "metadata": {},
   "outputs": [],
   "source": [
    "\n",
    "# Fit a Linear Regression model to the generated data\n",
    "model = LinearRegression()\n",
    "model.fit(X, y)\n",
    "\n",
    "# Get the coefficient and intercept from the fitted model\n",
    "fitted_coef = model.coef_[0]\n",
    "fitted_intercept = model.intercept_\n",
    "\n",
    "# Constructing the equation of the fitted line\n",
    "equation = f\"y = {fitted_coef} * x + {fitted_intercept}\"\n",
    "\n",
    "print(equation)"
   ]
  },
  {
   "cell_type": "markdown",
   "id": "1df8cb72-1267-4e1d-9fae-0b978bfa2b29",
   "metadata": {},
   "source": [
    "### 3"
   ]
  },
  {
   "cell_type": "code",
   "execution_count": null,
   "id": "15d37ea3-1320-48f3-9deb-8110e3afc02b",
   "metadata": {},
   "outputs": [],
   "source": [
    "# Plotting the generated data again with the fitted line\n",
    "plt.figure(figsize=(8, 6))\n",
    "plt.scatter(X, y, color='blue', label='Data points')  # Plot the data points\n",
    "plt.plot(X, model.predict(X), color='red', label='Fitted Line')  # Plot the regression line\n",
    "plt.title('Generated Data Set with Fitted Line')\n",
    "plt.xlabel('X')\n",
    "plt.ylabel('y')\n",
    "plt.legend()\n",
    "plt.show()"
   ]
  },
  {
   "cell_type": "markdown",
   "id": "a88256fd-6d33-4aad-972e-345144c4a626",
   "metadata": {},
   "source": [
    "### 4"
   ]
  },
  {
   "cell_type": "code",
   "execution_count": null,
   "id": "6689354f-dc26-4d9e-9ec7-02f424fd0315",
   "metadata": {},
   "outputs": [],
   "source": [
    "y_pred = model.predict(X)\n",
    "y_pred[:10]"
   ]
  },
  {
   "cell_type": "markdown",
   "id": "5eb31d96-39fe-443c-9b9c-0890f58cc888",
   "metadata": {},
   "source": [
    "### 5"
   ]
  },
  {
   "cell_type": "code",
   "execution_count": null,
   "id": "e4e10635-ef7e-4d81-a1a8-8154e77060dd",
   "metadata": {},
   "outputs": [],
   "source": [
    "# Let's define the compute_mse function first\n",
    "def compute_mse(y_true, y_pred):\n",
    "    # Compute the Mean Squared Error between true and predicted values\n",
    "    mse = ((y_true - y_pred) ** 2).mean()\n",
    "    return mse\n",
    "\n",
    "\n",
    "# Compute the MSE on the dataset\n",
    "mse = compute_mse(y, y_pred)\n",
    "mse\n"
   ]
  },
  {
   "cell_type": "markdown",
   "id": "fbf8fb50-4080-4f7c-b25a-2112545dcca7",
   "metadata": {},
   "source": [
    "### 6"
   ]
  },
  {
   "cell_type": "code",
   "execution_count": null,
   "id": "a98cb52f-e1fc-45ec-ab60-bcd15649d05d",
   "metadata": {},
   "outputs": [],
   "source": [
    "# Generating data with noise parameter set to 50\n",
    "X, y, coef = make_regression(n_samples=100,\n",
    "                             n_features=1,\n",
    "                             n_informative=1,\n",
    "                             noise=50,\n",
    "                             coef=True,\n",
    "                             random_state=0,\n",
    "                             bias=100.0)\n",
    "\n",
    "# Fitting the model and making predictions\n",
    "model = LinearRegression()\n",
    "model.fit(X, y)\n",
    "y_pred = model.predict(X)\n",
    "\n",
    "# Computing MSE using the custom function\n",
    "mse_noisy = compute_mse(y, y_pred)\n",
    "\n",
    "# Get the coefficient and intercept from the fitted model\n",
    "fitted_coef_noisy = model.coef_[0]\n",
    "fitted_intercept_noisy = model.intercept_\n",
    "\n",
    "# Equation of the fitted line with noisy data\n",
    "equation_noisy = f\"y = {fitted_coef_noisy} * x + {fitted_intercept_noisy}\"\n",
    "print(\"Equation of the fitted line with noisy data:\", equation_noisy)\n",
    "print(\"MSE with noisy data:\", mse_noisy)\n",
    "\n"
   ]
  },
  {
   "cell_type": "markdown",
   "id": "cd642825-bb6e-4927-8454-277a0651efae",
   "metadata": {},
   "source": [
    "## Exercise 3: Train test split"
   ]
  },
  {
   "cell_type": "code",
   "execution_count": null,
   "id": "b3396240-4cca-4a69-896a-926b5d48dbd6",
   "metadata": {},
   "outputs": [],
   "source": [
    "\n",
    "# Create the data\n",
    "X = np.arange(1, 21).reshape(10, -1)  # Reshape data into a 2D array\n",
    "y = np.arange(1, 11)\n",
    "\n",
    "# Define test size (20% in this case)\n",
    "test_size = 0.2\n",
    "\n",
    "# Split the data (shuffle=False for no shuffling)\n",
    "X_train, X_test, y_train, y_test = train_test_split(X, y, test_size=test_size, shuffle=False)\n",
    "\n",
    "# Print the data splits\n",
    "print(f\"X_train:\\n {X_train}\\n\")\n",
    "print(f\"y_train:\\n {y_train}\\n\")\n",
    "print(f\"X_test:\\n {X_test}\\n\")\n",
    "print(f\"y_test:\\n {y_test}\\n\")\n"
   ]
  },
  {
   "cell_type": "markdown",
   "id": "d543ba17-ed39-4e6c-b810-52f0ca89b63c",
   "metadata": {},
   "source": [
    "## Exercise 4: Forecast diabetes progression"
   ]
  },
  {
   "cell_type": "code",
   "execution_count": null,
   "id": "8351f03b-ed50-4873-bb49-d9a89cee7853",
   "metadata": {},
   "outputs": [],
   "source": [
    "\n",
    "diabetes = load_diabetes(as_frame=True)\n",
    "X, y = diabetes.data, diabetes.target"
   ]
  },
  {
   "cell_type": "code",
   "execution_count": null,
   "id": "139dbd16-b98b-4b55-9f34-39f8bdb587de",
   "metadata": {},
   "outputs": [],
   "source": [
    "print(diabetes.DESCR)  # Get the dataset description"
   ]
  },
  {
   "cell_type": "code",
   "execution_count": null,
   "id": "47bb53a9-9aca-4da7-8b9e-31b86cf95a0a",
   "metadata": {},
   "outputs": [],
   "source": [
    "X.isnull().sum()"
   ]
  },
  {
   "cell_type": "code",
   "execution_count": null,
   "id": "0cdd4bf4-a147-46e3-b273-0e1e4a8bd1a6",
   "metadata": {},
   "outputs": [],
   "source": [
    "y"
   ]
  },
  {
   "cell_type": "markdown",
   "id": "62a0686c-6e13-4f44-b16e-9c660c5ab364",
   "metadata": {},
   "source": [
    "#### 1"
   ]
  },
  {
   "cell_type": "code",
   "execution_count": null,
   "id": "86921a9d-ac33-4bcb-ba0a-3ecbf1106f0d",
   "metadata": {},
   "outputs": [],
   "source": [
    "X_train, X_test, y_train, y_test = train_test_split(X, y, test_size=0.2, random_state=43)\n",
    "\n",
    "print(y_train.values[:10])\n",
    "print(y_test.values[:10])"
   ]
  },
  {
   "cell_type": "markdown",
   "id": "90cad694-d944-4a21-b299-31bcc42ce4c3",
   "metadata": {},
   "source": [
    "#### 2"
   ]
  },
  {
   "cell_type": "code",
   "execution_count": null,
   "id": "55e1024f-78dc-4758-b61c-f84144cd19c5",
   "metadata": {},
   "outputs": [],
   "source": [
    "model = LinearRegression()\n",
    "model.fit(X_train, y_train)\n",
    "\n",
    "# Get the coefficients and the intercept\n",
    "coefficients = model.coef_\n",
    "intercept = model.intercept_\n",
    "\n",
    "coefficients_with_names = list(zip(diabetes.feature_names, coefficients))\n",
    "coefficients_with_names"
   ]
  },
  {
   "cell_type": "markdown",
   "id": "690390bb-c533-4902-8a21-83a09bac85fc",
   "metadata": {},
   "source": [
    "#### 3"
   ]
  },
  {
   "cell_type": "code",
   "execution_count": null,
   "id": "69813cc9-c770-4294-84dc-4f495f16c7fc",
   "metadata": {},
   "outputs": [],
   "source": [
    "y_pred = model.predict(X_test)\n",
    "y_pred[:10]"
   ]
  },
  {
   "cell_type": "markdown",
   "id": "9e634304-346e-4e0a-b874-663296c7d32d",
   "metadata": {},
   "source": [
    "#### 4"
   ]
  },
  {
   "cell_type": "code",
   "execution_count": null,
   "id": "113178f3-0b5f-4145-b4ba-bc2856f976da",
   "metadata": {},
   "outputs": [],
   "source": [
    "\n",
    "y_train_pred =model.predict(X_train)\n",
    "\n",
    "mse_train = mean_squared_error(y_train, y_train_pred)\n",
    "\n",
    "# Compute the Mean Squared Error (MSE) on the test set\n",
    "mse_test = mean_squared_error(y_test, y_pred)\n",
    "\n",
    "mse_train, mse_test"
   ]
  },
  {
   "cell_type": "code",
   "execution_count": null,
   "id": "f2d69da5-eb36-480c-b285-96737399efa7",
   "metadata": {},
   "outputs": [],
   "source": []
  }
 ],
 "metadata": {
  "kernelspec": {
   "display_name": "Python 3 (ipykernel)",
   "language": "python",
   "name": "python3"
  },
  "language_info": {
   "codemirror_mode": {
    "name": "ipython",
    "version": 3
   },
   "file_extension": ".py",
   "mimetype": "text/x-python",
   "name": "python",
   "nbconvert_exporter": "python",
   "pygments_lexer": "ipython3",
   "version": "3.9.10"
  }
 },
 "nbformat": 4,
 "nbformat_minor": 5
}
