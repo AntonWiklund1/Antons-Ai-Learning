{
 "cells": [
  {
   "cell_type": "markdown",
   "id": "176654c6-bbee-4c58-bc5b-fa1398cb193a",
   "metadata": {
    "jp-MarkdownHeadingCollapsed": true
   },
   "source": [
    "## Exercise 0: Environment and libraries"
   ]
  },
  {
   "cell_type": "code",
   "execution_count": 16,
   "id": "3663a19e-7038-467a-a75e-1d9ddb718a8b",
   "metadata": {},
   "outputs": [],
   "source": [
    "import pandas as pd\n",
    "import numpy as np\n",
    "import jupyter\n",
    "from IPython.display import display"
   ]
  },
  {
   "cell_type": "markdown",
   "id": "6b4999b1-2c6a-40cf-8ead-de3c74d9fcde",
   "metadata": {
    "jp-MarkdownHeadingCollapsed": true
   },
   "source": [
    "## Exercise 1: Your first DataFrame"
   ]
  },
  {
   "cell_type": "code",
   "execution_count": 2,
   "id": "4ae39b5f-661d-4d2f-a7f4-cdcb6288abf4",
   "metadata": {
    "editable": true,
    "slideshow": {
     "slide_type": ""
    },
    "tags": []
   },
   "outputs": [
    {
     "data": {
      "text/html": [
       "<div>\n",
       "<style scoped>\n",
       "    .dataframe tbody tr th:only-of-type {\n",
       "        vertical-align: middle;\n",
       "    }\n",
       "\n",
       "    .dataframe tbody tr th {\n",
       "        vertical-align: top;\n",
       "    }\n",
       "\n",
       "    .dataframe thead th {\n",
       "        text-align: right;\n",
       "    }\n",
       "</style>\n",
       "<table border=\"1\" class=\"dataframe\">\n",
       "  <thead>\n",
       "    <tr style=\"text-align: right;\">\n",
       "      <th></th>\n",
       "      <th>color</th>\n",
       "      <th>list</th>\n",
       "      <th>number</th>\n",
       "    </tr>\n",
       "  </thead>\n",
       "  <tbody>\n",
       "    <tr>\n",
       "      <th>1</th>\n",
       "      <td>Blue</td>\n",
       "      <td>[1, 2]</td>\n",
       "      <td>1.1</td>\n",
       "    </tr>\n",
       "    <tr>\n",
       "      <th>3</th>\n",
       "      <td>Red</td>\n",
       "      <td>[3, 4]</td>\n",
       "      <td>2.2</td>\n",
       "    </tr>\n",
       "    <tr>\n",
       "      <th>5</th>\n",
       "      <td>Pink</td>\n",
       "      <td>[5, 6]</td>\n",
       "      <td>3.3</td>\n",
       "    </tr>\n",
       "    <tr>\n",
       "      <th>7</th>\n",
       "      <td>Grey</td>\n",
       "      <td>[7, 8]</td>\n",
       "      <td>4.4</td>\n",
       "    </tr>\n",
       "    <tr>\n",
       "      <th>9</th>\n",
       "      <td>Black</td>\n",
       "      <td>[9, 10]</td>\n",
       "      <td>5.5</td>\n",
       "    </tr>\n",
       "  </tbody>\n",
       "</table>\n",
       "</div>"
      ],
      "text/plain": [
       "   color     list number\n",
       "1   Blue   [1, 2]    1.1\n",
       "3    Red   [3, 4]    2.2\n",
       "5   Pink   [5, 6]    3.3\n",
       "7   Grey   [7, 8]    4.4\n",
       "9  Black  [9, 10]    5.5"
      ]
     },
     "metadata": {},
     "output_type": "display_data"
    },
    {
     "data": {
      "text/html": [
       "<div>\n",
       "<style scoped>\n",
       "    .dataframe tbody tr th:only-of-type {\n",
       "        vertical-align: middle;\n",
       "    }\n",
       "\n",
       "    .dataframe tbody tr th {\n",
       "        vertical-align: top;\n",
       "    }\n",
       "\n",
       "    .dataframe thead th {\n",
       "        text-align: right;\n",
       "    }\n",
       "</style>\n",
       "<table border=\"1\" class=\"dataframe\">\n",
       "  <thead>\n",
       "    <tr style=\"text-align: right;\">\n",
       "      <th></th>\n",
       "      <th>color</th>\n",
       "      <th>list</th>\n",
       "      <th>number</th>\n",
       "    </tr>\n",
       "  </thead>\n",
       "  <tbody>\n",
       "    <tr>\n",
       "      <th>1</th>\n",
       "      <td>Blue</td>\n",
       "      <td>[1, 2]</td>\n",
       "      <td>1.1</td>\n",
       "    </tr>\n",
       "    <tr>\n",
       "      <th>3</th>\n",
       "      <td>Red</td>\n",
       "      <td>[3, 4]</td>\n",
       "      <td>2.2</td>\n",
       "    </tr>\n",
       "    <tr>\n",
       "      <th>5</th>\n",
       "      <td>Pink</td>\n",
       "      <td>[5, 6]</td>\n",
       "      <td>3.3</td>\n",
       "    </tr>\n",
       "    <tr>\n",
       "      <th>7</th>\n",
       "      <td>Grey</td>\n",
       "      <td>[7, 8]</td>\n",
       "      <td>4.4</td>\n",
       "    </tr>\n",
       "    <tr>\n",
       "      <th>9</th>\n",
       "      <td>Black</td>\n",
       "      <td>[9, 10]</td>\n",
       "      <td>5.5</td>\n",
       "    </tr>\n",
       "  </tbody>\n",
       "</table>\n",
       "</div>"
      ],
      "text/plain": [
       "   color     list  number\n",
       "1   Blue   [1, 2]     1.1\n",
       "3    Red   [3, 4]     2.2\n",
       "5   Pink   [5, 6]     3.3\n",
       "7   Grey   [7, 8]     4.4\n",
       "9  Black  [9, 10]     5.5"
      ]
     },
     "metadata": {},
     "output_type": "display_data"
    }
   ],
   "source": [
    "\n",
    "\n",
    "\n",
    "index = [1, 3, 5, 7, 9]  # You can specify any custom index here\n",
    "data = np.array([['Blue', [1, 2], 1.1],\n",
    "                 ['Red', [3, 4], 2.2],\n",
    "                 ['Pink', [5, 6], 3.3],\n",
    "                 ['Grey', [7, 8], 4.4],\n",
    "                 ['Black', [9, 10], 5.5]], dtype=object)\n",
    "\n",
    "df1 = pd.DataFrame(data, columns=['color', 'list','number'])\n",
    "df1.index = index\n",
    "\n",
    "#the series\n",
    "colors = pd.Series(['Blue', 'Red', 'Pink', 'Grey', 'Black'])\n",
    "lists = pd.Series([[1, 2], [3, 4], [5, 6], [7, 8], [9, 10]])\n",
    "numbers = pd.Series([1.1, 2.2, 3.3, 4.4, 5.5])\n",
    "\n",
    "df2 = pd.DataFrame({'color': colors,\n",
    "                     'list': lists,\n",
    "                     'number': numbers\n",
    "                   })\n",
    "df2.index = index\n",
    "\n",
    "\n",
    "display(df1)\n",
    "display(df2)"
   ]
  },
  {
   "cell_type": "code",
   "execution_count": 3,
   "id": "3d7f4eb7-fa9d-41e3-b3db-7688b9da7eab",
   "metadata": {},
   "outputs": [
    {
     "data": {
      "text/plain": [
       "([\"<class 'pandas.core.series.Series'>\",\n",
       "  \"<class 'pandas.core.series.Series'>\",\n",
       "  \"<class 'pandas.core.series.Series'>\"],\n",
       " [\"<class 'str'>\", \"<class 'list'>\", \"<class 'float'>\"])"
      ]
     },
     "execution_count": 3,
     "metadata": {},
     "output_type": "execute_result"
    }
   ],
   "source": [
    "# Print the class name for the column types (Series)\n",
    "column_types_as_series_class = [str(type(df1[col])) for col in df1.columns]\n",
    "\n",
    "# Print the class name for the first value types of every column\n",
    "first_value_types_class = [str(type(df1[col].iloc[0])) for col in df1.columns]\n",
    "\n",
    "\n",
    "column_types_as_series_class, first_value_types_class\n",
    "\n",
    "\n"
   ]
  },
  {
   "cell_type": "markdown",
   "id": "5451cbe6-4b52-4efd-8a1d-3d84c1999bac",
   "metadata": {
    "jp-MarkdownHeadingCollapsed": true
   },
   "source": [
    "## Exercise 2: Electric power consumption"
   ]
  },
  {
   "cell_type": "code",
   "execution_count": 4,
   "id": "878d273a-d812-4575-b9fd-3ed1d5fcca28",
   "metadata": {},
   "outputs": [
    {
     "data": {
      "text/html": [
       "<div>\n",
       "<style scoped>\n",
       "    .dataframe tbody tr th:only-of-type {\n",
       "        vertical-align: middle;\n",
       "    }\n",
       "\n",
       "    .dataframe tbody tr th {\n",
       "        vertical-align: top;\n",
       "    }\n",
       "\n",
       "    .dataframe thead th {\n",
       "        text-align: right;\n",
       "    }\n",
       "</style>\n",
       "<table border=\"1\" class=\"dataframe\">\n",
       "  <thead>\n",
       "    <tr style=\"text-align: right;\">\n",
       "      <th></th>\n",
       "      <th>Date</th>\n",
       "      <th>Time</th>\n",
       "      <th>Global_active_power</th>\n",
       "      <th>Global_reactive_power</th>\n",
       "      <th>Voltage</th>\n",
       "      <th>Global_intensity</th>\n",
       "      <th>Sub_metering_1</th>\n",
       "      <th>Sub_metering_2</th>\n",
       "      <th>Sub_metering_3</th>\n",
       "    </tr>\n",
       "  </thead>\n",
       "  <tbody>\n",
       "    <tr>\n",
       "      <th>0</th>\n",
       "      <td>16/12/2006</td>\n",
       "      <td>17:24:00</td>\n",
       "      <td>4.216</td>\n",
       "      <td>0.418</td>\n",
       "      <td>234.840</td>\n",
       "      <td>18.400</td>\n",
       "      <td>0.000</td>\n",
       "      <td>1.000</td>\n",
       "      <td>17.0</td>\n",
       "    </tr>\n",
       "    <tr>\n",
       "      <th>1</th>\n",
       "      <td>16/12/2006</td>\n",
       "      <td>17:25:00</td>\n",
       "      <td>5.360</td>\n",
       "      <td>0.436</td>\n",
       "      <td>233.630</td>\n",
       "      <td>23.000</td>\n",
       "      <td>0.000</td>\n",
       "      <td>1.000</td>\n",
       "      <td>16.0</td>\n",
       "    </tr>\n",
       "    <tr>\n",
       "      <th>2</th>\n",
       "      <td>16/12/2006</td>\n",
       "      <td>17:26:00</td>\n",
       "      <td>5.374</td>\n",
       "      <td>0.498</td>\n",
       "      <td>233.290</td>\n",
       "      <td>23.000</td>\n",
       "      <td>0.000</td>\n",
       "      <td>2.000</td>\n",
       "      <td>17.0</td>\n",
       "    </tr>\n",
       "    <tr>\n",
       "      <th>3</th>\n",
       "      <td>16/12/2006</td>\n",
       "      <td>17:27:00</td>\n",
       "      <td>5.388</td>\n",
       "      <td>0.502</td>\n",
       "      <td>233.740</td>\n",
       "      <td>23.000</td>\n",
       "      <td>0.000</td>\n",
       "      <td>1.000</td>\n",
       "      <td>17.0</td>\n",
       "    </tr>\n",
       "    <tr>\n",
       "      <th>4</th>\n",
       "      <td>16/12/2006</td>\n",
       "      <td>17:28:00</td>\n",
       "      <td>3.666</td>\n",
       "      <td>0.528</td>\n",
       "      <td>235.680</td>\n",
       "      <td>15.800</td>\n",
       "      <td>0.000</td>\n",
       "      <td>1.000</td>\n",
       "      <td>17.0</td>\n",
       "    </tr>\n",
       "  </tbody>\n",
       "</table>\n",
       "</div>"
      ],
      "text/plain": [
       "         Date      Time Global_active_power Global_reactive_power  Voltage  \\\n",
       "0  16/12/2006  17:24:00               4.216                 0.418  234.840   \n",
       "1  16/12/2006  17:25:00               5.360                 0.436  233.630   \n",
       "2  16/12/2006  17:26:00               5.374                 0.498  233.290   \n",
       "3  16/12/2006  17:27:00               5.388                 0.502  233.740   \n",
       "4  16/12/2006  17:28:00               3.666                 0.528  235.680   \n",
       "\n",
       "  Global_intensity Sub_metering_1 Sub_metering_2  Sub_metering_3  \n",
       "0           18.400          0.000          1.000            17.0  \n",
       "1           23.000          0.000          1.000            16.0  \n",
       "2           23.000          0.000          2.000            17.0  \n",
       "3           23.000          0.000          1.000            17.0  \n",
       "4           15.800          0.000          1.000            17.0  "
      ]
     },
     "execution_count": 4,
     "metadata": {},
     "output_type": "execute_result"
    }
   ],
   "source": [
    "df = pd.read_csv(\"household_power_consumption.txt\",sep=';', low_memory=False)\n",
    "df.head()"
   ]
  },
  {
   "cell_type": "code",
   "execution_count": 5,
   "id": "ccd165d9-5545-4e01-9b60-5f2a38b15200",
   "metadata": {},
   "outputs": [
    {
     "data": {
      "text/html": [
       "<div>\n",
       "<style scoped>\n",
       "    .dataframe tbody tr th:only-of-type {\n",
       "        vertical-align: middle;\n",
       "    }\n",
       "\n",
       "    .dataframe tbody tr th {\n",
       "        vertical-align: top;\n",
       "    }\n",
       "\n",
       "    .dataframe thead th {\n",
       "        text-align: right;\n",
       "    }\n",
       "</style>\n",
       "<table border=\"1\" class=\"dataframe\">\n",
       "  <thead>\n",
       "    <tr style=\"text-align: right;\">\n",
       "      <th></th>\n",
       "      <th>Date</th>\n",
       "      <th>Global_active_power</th>\n",
       "      <th>Global_reactive_power</th>\n",
       "      <th>Voltage</th>\n",
       "      <th>Global_intensity</th>\n",
       "      <th>Sub_metering_1</th>\n",
       "    </tr>\n",
       "  </thead>\n",
       "  <tbody>\n",
       "    <tr>\n",
       "      <th>0</th>\n",
       "      <td>16/12/2006</td>\n",
       "      <td>4.216</td>\n",
       "      <td>0.418</td>\n",
       "      <td>234.840</td>\n",
       "      <td>18.400</td>\n",
       "      <td>0.000</td>\n",
       "    </tr>\n",
       "    <tr>\n",
       "      <th>1</th>\n",
       "      <td>16/12/2006</td>\n",
       "      <td>5.360</td>\n",
       "      <td>0.436</td>\n",
       "      <td>233.630</td>\n",
       "      <td>23.000</td>\n",
       "      <td>0.000</td>\n",
       "    </tr>\n",
       "    <tr>\n",
       "      <th>2</th>\n",
       "      <td>16/12/2006</td>\n",
       "      <td>5.374</td>\n",
       "      <td>0.498</td>\n",
       "      <td>233.290</td>\n",
       "      <td>23.000</td>\n",
       "      <td>0.000</td>\n",
       "    </tr>\n",
       "    <tr>\n",
       "      <th>3</th>\n",
       "      <td>16/12/2006</td>\n",
       "      <td>5.388</td>\n",
       "      <td>0.502</td>\n",
       "      <td>233.740</td>\n",
       "      <td>23.000</td>\n",
       "      <td>0.000</td>\n",
       "    </tr>\n",
       "    <tr>\n",
       "      <th>4</th>\n",
       "      <td>16/12/2006</td>\n",
       "      <td>3.666</td>\n",
       "      <td>0.528</td>\n",
       "      <td>235.680</td>\n",
       "      <td>15.800</td>\n",
       "      <td>0.000</td>\n",
       "    </tr>\n",
       "  </tbody>\n",
       "</table>\n",
       "</div>"
      ],
      "text/plain": [
       "         Date Global_active_power Global_reactive_power  Voltage  \\\n",
       "0  16/12/2006               4.216                 0.418  234.840   \n",
       "1  16/12/2006               5.360                 0.436  233.630   \n",
       "2  16/12/2006               5.374                 0.498  233.290   \n",
       "3  16/12/2006               5.388                 0.502  233.740   \n",
       "4  16/12/2006               3.666                 0.528  235.680   \n",
       "\n",
       "  Global_intensity Sub_metering_1  \n",
       "0           18.400          0.000  \n",
       "1           23.000          0.000  \n",
       "2           23.000          0.000  \n",
       "3           23.000          0.000  \n",
       "4           15.800          0.000  "
      ]
     },
     "execution_count": 5,
     "metadata": {},
     "output_type": "execute_result"
    }
   ],
   "source": [
    "df.drop(['Time', 'Sub_metering_2', 'Sub_metering_3'], axis=1, inplace=True)\n",
    "df.head()"
   ]
  },
  {
   "cell_type": "code",
   "execution_count": 6,
   "id": "786120bf-541c-4cc2-83bd-121230ae4d68",
   "metadata": {},
   "outputs": [
    {
     "data": {
      "text/plain": [
       "DatetimeIndex(['2006-12-16', '2006-12-16', '2006-12-16', '2006-12-16',\n",
       "               '2006-12-16'],\n",
       "              dtype='datetime64[ns]', name='Date', freq=None)"
      ]
     },
     "execution_count": 6,
     "metadata": {},
     "output_type": "execute_result"
    }
   ],
   "source": [
    "df['Date'] = pd.to_datetime(df['Date'], dayfirst=True)\n",
    "df.set_index('Date', inplace=True)\n",
    "df.head().index"
   ]
  },
  {
   "cell_type": "code",
   "execution_count": 7,
   "id": "d727ce33-4df4-436d-9305-72945603d28c",
   "metadata": {},
   "outputs": [
    {
     "data": {
      "text/plain": [
       "Global_active_power      float64\n",
       "Global_reactive_power    float64\n",
       "Voltage                  float64\n",
       "Global_intensity         float64\n",
       "Sub_metering_1           float64\n",
       "dtype: object"
      ]
     },
     "execution_count": 7,
     "metadata": {},
     "output_type": "execute_result"
    }
   ],
   "source": [
    "def update_types(df):\n",
    "    df['Global_active_power'] = pd.to_numeric(df['Global_active_power'],errors='coerce')\n",
    "    df['Global_reactive_power'] = pd.to_numeric(df['Global_reactive_power'],errors='coerce')\n",
    "    df['Voltage'] = pd.to_numeric(df['Voltage'],errors='coerce')\n",
    "    df['Global_intensity'] = pd.to_numeric(df['Global_intensity'],errors='coerce')\n",
    "    df['Sub_metering_1'] = pd.to_numeric(df['Sub_metering_1'],errors='coerce')\n",
    "    return df\n",
    "\n",
    "\n",
    "update_types(df)\n",
    "\n",
    "df.dtypes\n",
    "\n"
   ]
  },
  {
   "cell_type": "code",
   "execution_count": 8,
   "id": "170c5994-e709-45d1-9b01-4408ce415cfe",
   "metadata": {},
   "outputs": [
    {
     "data": {
      "text/html": [
       "<div>\n",
       "<style scoped>\n",
       "    .dataframe tbody tr th:only-of-type {\n",
       "        vertical-align: middle;\n",
       "    }\n",
       "\n",
       "    .dataframe tbody tr th {\n",
       "        vertical-align: top;\n",
       "    }\n",
       "\n",
       "    .dataframe thead th {\n",
       "        text-align: right;\n",
       "    }\n",
       "</style>\n",
       "<table border=\"1\" class=\"dataframe\">\n",
       "  <thead>\n",
       "    <tr style=\"text-align: right;\">\n",
       "      <th></th>\n",
       "      <th>Global_active_power</th>\n",
       "      <th>Global_reactive_power</th>\n",
       "      <th>Voltage</th>\n",
       "      <th>Global_intensity</th>\n",
       "      <th>Sub_metering_1</th>\n",
       "    </tr>\n",
       "  </thead>\n",
       "  <tbody>\n",
       "    <tr>\n",
       "      <th>count</th>\n",
       "      <td>2.049280e+06</td>\n",
       "      <td>2.049280e+06</td>\n",
       "      <td>2.049280e+06</td>\n",
       "      <td>2.049280e+06</td>\n",
       "      <td>2.049280e+06</td>\n",
       "    </tr>\n",
       "    <tr>\n",
       "      <th>mean</th>\n",
       "      <td>1.091615e+00</td>\n",
       "      <td>1.237145e-01</td>\n",
       "      <td>2.408399e+02</td>\n",
       "      <td>4.627759e+00</td>\n",
       "      <td>1.121923e+00</td>\n",
       "    </tr>\n",
       "    <tr>\n",
       "      <th>std</th>\n",
       "      <td>1.057294e+00</td>\n",
       "      <td>1.127220e-01</td>\n",
       "      <td>3.239987e+00</td>\n",
       "      <td>4.444396e+00</td>\n",
       "      <td>6.153031e+00</td>\n",
       "    </tr>\n",
       "    <tr>\n",
       "      <th>min</th>\n",
       "      <td>7.600000e-02</td>\n",
       "      <td>0.000000e+00</td>\n",
       "      <td>2.232000e+02</td>\n",
       "      <td>2.000000e-01</td>\n",
       "      <td>0.000000e+00</td>\n",
       "    </tr>\n",
       "    <tr>\n",
       "      <th>25%</th>\n",
       "      <td>3.080000e-01</td>\n",
       "      <td>4.800000e-02</td>\n",
       "      <td>2.389900e+02</td>\n",
       "      <td>1.400000e+00</td>\n",
       "      <td>0.000000e+00</td>\n",
       "    </tr>\n",
       "    <tr>\n",
       "      <th>50%</th>\n",
       "      <td>6.020000e-01</td>\n",
       "      <td>1.000000e-01</td>\n",
       "      <td>2.410100e+02</td>\n",
       "      <td>2.600000e+00</td>\n",
       "      <td>0.000000e+00</td>\n",
       "    </tr>\n",
       "    <tr>\n",
       "      <th>75%</th>\n",
       "      <td>1.528000e+00</td>\n",
       "      <td>1.940000e-01</td>\n",
       "      <td>2.428900e+02</td>\n",
       "      <td>6.400000e+00</td>\n",
       "      <td>0.000000e+00</td>\n",
       "    </tr>\n",
       "    <tr>\n",
       "      <th>max</th>\n",
       "      <td>1.112200e+01</td>\n",
       "      <td>1.390000e+00</td>\n",
       "      <td>2.541500e+02</td>\n",
       "      <td>4.840000e+01</td>\n",
       "      <td>8.800000e+01</td>\n",
       "    </tr>\n",
       "  </tbody>\n",
       "</table>\n",
       "</div>"
      ],
      "text/plain": [
       "       Global_active_power  Global_reactive_power       Voltage  \\\n",
       "count         2.049280e+06           2.049280e+06  2.049280e+06   \n",
       "mean          1.091615e+00           1.237145e-01  2.408399e+02   \n",
       "std           1.057294e+00           1.127220e-01  3.239987e+00   \n",
       "min           7.600000e-02           0.000000e+00  2.232000e+02   \n",
       "25%           3.080000e-01           4.800000e-02  2.389900e+02   \n",
       "50%           6.020000e-01           1.000000e-01  2.410100e+02   \n",
       "75%           1.528000e+00           1.940000e-01  2.428900e+02   \n",
       "max           1.112200e+01           1.390000e+00  2.541500e+02   \n",
       "\n",
       "       Global_intensity  Sub_metering_1  \n",
       "count      2.049280e+06    2.049280e+06  \n",
       "mean       4.627759e+00    1.121923e+00  \n",
       "std        4.444396e+00    6.153031e+00  \n",
       "min        2.000000e-01    0.000000e+00  \n",
       "25%        1.400000e+00    0.000000e+00  \n",
       "50%        2.600000e+00    0.000000e+00  \n",
       "75%        6.400000e+00    0.000000e+00  \n",
       "max        4.840000e+01    8.800000e+01  "
      ]
     },
     "execution_count": 8,
     "metadata": {},
     "output_type": "execute_result"
    }
   ],
   "source": [
    "df.describe()"
   ]
  },
  {
   "cell_type": "code",
   "execution_count": 9,
   "id": "1607a243-4420-4009-a863-fb414f03e339",
   "metadata": {},
   "outputs": [
    {
     "data": {
      "text/plain": [
       "Global_active_power      0\n",
       "Global_reactive_power    0\n",
       "Voltage                  0\n",
       "Global_intensity         0\n",
       "Sub_metering_1           0\n",
       "dtype: int64"
      ]
     },
     "execution_count": 9,
     "metadata": {},
     "output_type": "execute_result"
    }
   ],
   "source": [
    "df.dropna(inplace=True)\n",
    "df.isna().sum()\n"
   ]
  },
  {
   "cell_type": "code",
   "execution_count": 10,
   "id": "a9b7108f-d664-46d6-afce-f508de8fbb68",
   "metadata": {},
   "outputs": [
    {
     "data": {
      "text/html": [
       "<div>\n",
       "<style scoped>\n",
       "    .dataframe tbody tr th:only-of-type {\n",
       "        vertical-align: middle;\n",
       "    }\n",
       "\n",
       "    .dataframe tbody tr th {\n",
       "        vertical-align: top;\n",
       "    }\n",
       "\n",
       "    .dataframe thead th {\n",
       "        text-align: right;\n",
       "    }\n",
       "</style>\n",
       "<table border=\"1\" class=\"dataframe\">\n",
       "  <thead>\n",
       "    <tr style=\"text-align: right;\">\n",
       "      <th></th>\n",
       "      <th>Global_active_power</th>\n",
       "      <th>Global_reactive_power</th>\n",
       "      <th>Voltage</th>\n",
       "      <th>Global_intensity</th>\n",
       "      <th>Sub_metering_1</th>\n",
       "    </tr>\n",
       "    <tr>\n",
       "      <th>Date</th>\n",
       "      <th></th>\n",
       "      <th></th>\n",
       "      <th></th>\n",
       "      <th></th>\n",
       "      <th></th>\n",
       "    </tr>\n",
       "  </thead>\n",
       "  <tbody>\n",
       "    <tr>\n",
       "      <th>2006-12-16</th>\n",
       "      <td>4.216</td>\n",
       "      <td>0.418</td>\n",
       "      <td>234.84</td>\n",
       "      <td>18.4</td>\n",
       "      <td>0.06</td>\n",
       "    </tr>\n",
       "    <tr>\n",
       "      <th>2006-12-16</th>\n",
       "      <td>5.360</td>\n",
       "      <td>0.436</td>\n",
       "      <td>233.63</td>\n",
       "      <td>23.0</td>\n",
       "      <td>0.06</td>\n",
       "    </tr>\n",
       "    <tr>\n",
       "      <th>2006-12-16</th>\n",
       "      <td>5.374</td>\n",
       "      <td>0.498</td>\n",
       "      <td>233.29</td>\n",
       "      <td>23.0</td>\n",
       "      <td>0.06</td>\n",
       "    </tr>\n",
       "    <tr>\n",
       "      <th>2006-12-16</th>\n",
       "      <td>5.388</td>\n",
       "      <td>0.502</td>\n",
       "      <td>233.74</td>\n",
       "      <td>23.0</td>\n",
       "      <td>0.06</td>\n",
       "    </tr>\n",
       "    <tr>\n",
       "      <th>2006-12-16</th>\n",
       "      <td>3.666</td>\n",
       "      <td>0.528</td>\n",
       "      <td>235.68</td>\n",
       "      <td>15.8</td>\n",
       "      <td>0.06</td>\n",
       "    </tr>\n",
       "  </tbody>\n",
       "</table>\n",
       "</div>"
      ],
      "text/plain": [
       "            Global_active_power  Global_reactive_power  Voltage  \\\n",
       "Date                                                              \n",
       "2006-12-16                4.216                  0.418   234.84   \n",
       "2006-12-16                5.360                  0.436   233.63   \n",
       "2006-12-16                5.374                  0.498   233.29   \n",
       "2006-12-16                5.388                  0.502   233.74   \n",
       "2006-12-16                3.666                  0.528   235.68   \n",
       "\n",
       "            Global_intensity  Sub_metering_1  \n",
       "Date                                          \n",
       "2006-12-16              18.4            0.06  \n",
       "2006-12-16              23.0            0.06  \n",
       "2006-12-16              23.0            0.06  \n",
       "2006-12-16              23.0            0.06  \n",
       "2006-12-16              15.8            0.06  "
      ]
     },
     "execution_count": 10,
     "metadata": {},
     "output_type": "execute_result"
    }
   ],
   "source": [
    "df.loc[:,'Sub_metering_1'] = (df['Sub_metering_1'] + 1) * 0.06\n",
    "df.head()"
   ]
  },
  {
   "cell_type": "code",
   "execution_count": 11,
   "id": "2d908337-bb43-44c5-b08b-7a7e618f85a6",
   "metadata": {},
   "outputs": [
    {
     "data": {
      "text/html": [
       "<div>\n",
       "<style scoped>\n",
       "    .dataframe tbody tr th:only-of-type {\n",
       "        vertical-align: middle;\n",
       "    }\n",
       "\n",
       "    .dataframe tbody tr th {\n",
       "        vertical-align: top;\n",
       "    }\n",
       "\n",
       "    .dataframe thead th {\n",
       "        text-align: right;\n",
       "    }\n",
       "</style>\n",
       "<table border=\"1\" class=\"dataframe\">\n",
       "  <thead>\n",
       "    <tr style=\"text-align: right;\">\n",
       "      <th></th>\n",
       "      <th>Global_active_power</th>\n",
       "      <th>Global_reactive_power</th>\n",
       "    </tr>\n",
       "    <tr>\n",
       "      <th>Date</th>\n",
       "      <th></th>\n",
       "      <th></th>\n",
       "    </tr>\n",
       "  </thead>\n",
       "  <tbody>\n",
       "    <tr>\n",
       "      <th>2008-12-27</th>\n",
       "      <td>0.996</td>\n",
       "      <td>0.066</td>\n",
       "    </tr>\n",
       "    <tr>\n",
       "      <th>2008-12-27</th>\n",
       "      <td>1.076</td>\n",
       "      <td>0.162</td>\n",
       "    </tr>\n",
       "    <tr>\n",
       "      <th>2008-12-27</th>\n",
       "      <td>1.064</td>\n",
       "      <td>0.172</td>\n",
       "    </tr>\n",
       "    <tr>\n",
       "      <th>2008-12-27</th>\n",
       "      <td>1.070</td>\n",
       "      <td>0.174</td>\n",
       "    </tr>\n",
       "    <tr>\n",
       "      <th>2008-12-27</th>\n",
       "      <td>0.804</td>\n",
       "      <td>0.184</td>\n",
       "    </tr>\n",
       "  </tbody>\n",
       "</table>\n",
       "</div>"
      ],
      "text/plain": [
       "            Global_active_power  Global_reactive_power\n",
       "Date                                                  \n",
       "2008-12-27                0.996                  0.066\n",
       "2008-12-27                1.076                  0.162\n",
       "2008-12-27                1.064                  0.172\n",
       "2008-12-27                1.070                  0.174\n",
       "2008-12-27                0.804                  0.184"
      ]
     },
     "execution_count": 11,
     "metadata": {},
     "output_type": "execute_result"
    }
   ],
   "source": [
    "filtered_df = df.loc[(df.index >= '2008-12-27') & (df['Voltage'] >= 242)].drop(['Global_intensity', 'Sub_metering_1', 'Voltage'], axis=1)\n",
    "filtered_df.head()"
   ]
  },
  {
   "cell_type": "code",
   "execution_count": 12,
   "id": "c57756dd-dc6f-4109-b802-a2f90bff3e8a",
   "metadata": {},
   "outputs": [
    {
     "name": "stdout",
     "output_type": "stream",
     "text": [
      "Global_active_power        0.254\n",
      "Global_reactive_power      0.000\n",
      "Voltage                  238.350\n",
      "Global_intensity           1.200\n",
      "Sub_metering_1             0.060\n",
      "Name: 2007-02-16 00:00:00, dtype: float64\n"
     ]
    }
   ],
   "source": [
    "print(df.iloc[88889])"
   ]
  },
  {
   "cell_type": "code",
   "execution_count": 13,
   "id": "b0345dfc-ae2b-4856-aef5-120472bfba93",
   "metadata": {},
   "outputs": [
    {
     "name": "stdout",
     "output_type": "stream",
     "text": [
      "Timestamp('2009-02-22 00:00:00')\n"
     ]
    }
   ],
   "source": [
    "max_global_active_power = df['Global_active_power'].idxmax()\n",
    "print(f\"Timestamp('{max_global_active_power}')\")"
   ]
  },
  {
   "cell_type": "code",
   "execution_count": 14,
   "id": "4b1d8629-74e7-4196-b1d3-88b066c6af76",
   "metadata": {},
   "outputs": [
    {
     "name": "stdout",
     "output_type": "stream",
     "text": [
      "            Global_active_power  Global_reactive_power  Voltage\n",
      "Date                                                           \n",
      "2009-02-22               11.122                  0.174   229.78\n",
      "2007-03-04               10.670                  0.516   230.20\n",
      "2007-03-04               10.650                  0.500   229.97\n",
      "2009-02-22               10.536                  0.192   230.24\n",
      "2008-11-30               10.348                  0.084   231.60\n"
     ]
    }
   ],
   "source": [
    "new_df = df.sort_values(by=['Global_active_power', 'Voltage'], ascending=[False, True])\n",
    "\n",
    "new_df = new_df.iloc[:, :3]\n",
    "\n",
    "print(new_df.head())\n"
   ]
  },
  {
   "cell_type": "code",
   "execution_count": 15,
   "id": "f30558f7-d745-4702-a0cb-6c04be01e130",
   "metadata": {},
   "outputs": [
    {
     "data": {
      "text/plain": [
       "2006-12-16    3.053475\n",
       "2006-12-17    2.354486\n",
       "2006-12-18    1.530435\n",
       "2006-12-19    1.157079\n",
       "2006-12-20    1.545658\n",
       "                ...   \n",
       "2010-11-22    1.417733\n",
       "2010-11-23    1.095511\n",
       "2010-11-24    1.247394\n",
       "2010-11-25    0.993864\n",
       "2010-11-26    1.178230\n",
       "Name: Global_active_power, Length: 1433, dtype: float64"
      ]
     },
     "metadata": {},
     "output_type": "display_data"
    }
   ],
   "source": [
    "daily_avg = df.groupby(df.index.date)['Global_active_power'].mean()\n",
    "display(daily_avg)"
   ]
  },
  {
   "cell_type": "markdown",
   "id": "dc045738-95d1-4ca1-9a9e-868b92e802c8",
   "metadata": {},
   "source": [
    "## Exercise 3: E-commerce purchases"
   ]
  },
  {
   "cell_type": "code",
   "execution_count": 24,
   "id": "6f4e673c-548e-485e-b4fa-0a8a6a317bf8",
   "metadata": {},
   "outputs": [
    {
     "data": {
      "text/html": [
       "<div>\n",
       "<style scoped>\n",
       "    .dataframe tbody tr th:only-of-type {\n",
       "        vertical-align: middle;\n",
       "    }\n",
       "\n",
       "    .dataframe tbody tr th {\n",
       "        vertical-align: top;\n",
       "    }\n",
       "\n",
       "    .dataframe thead th {\n",
       "        text-align: right;\n",
       "    }\n",
       "</style>\n",
       "<table border=\"1\" class=\"dataframe\">\n",
       "  <thead>\n",
       "    <tr style=\"text-align: right;\">\n",
       "      <th></th>\n",
       "      <th>Address</th>\n",
       "      <th>Lot</th>\n",
       "      <th>AM or PM</th>\n",
       "      <th>Browser Info</th>\n",
       "      <th>Company</th>\n",
       "      <th>Credit Card</th>\n",
       "      <th>CC Exp Date</th>\n",
       "      <th>CC Security Code</th>\n",
       "      <th>CC Provider</th>\n",
       "      <th>Email</th>\n",
       "      <th>Job</th>\n",
       "      <th>IP Address</th>\n",
       "      <th>Language</th>\n",
       "      <th>Purchase Price</th>\n",
       "    </tr>\n",
       "  </thead>\n",
       "  <tbody>\n",
       "    <tr>\n",
       "      <th>0</th>\n",
       "      <td>16629 Pace Camp Apt. 448\\nAlexisborough, NE 77...</td>\n",
       "      <td>46 in</td>\n",
       "      <td>PM</td>\n",
       "      <td>Opera/9.56.(X11; Linux x86_64; sl-SI) Presto/2...</td>\n",
       "      <td>Martinez-Herman</td>\n",
       "      <td>6011929061123406</td>\n",
       "      <td>02/20</td>\n",
       "      <td>900</td>\n",
       "      <td>JCB 16 digit</td>\n",
       "      <td>pdunlap@yahoo.com</td>\n",
       "      <td>Scientist, product/process development</td>\n",
       "      <td>149.146.147.205</td>\n",
       "      <td>el</td>\n",
       "      <td>98.14</td>\n",
       "    </tr>\n",
       "    <tr>\n",
       "      <th>1</th>\n",
       "      <td>9374 Jasmine Spurs Suite 508\\nSouth John, TN 8...</td>\n",
       "      <td>28 rn</td>\n",
       "      <td>PM</td>\n",
       "      <td>Opera/8.93.(Windows 98; Win 9x 4.90; en-US) Pr...</td>\n",
       "      <td>Fletcher, Richards and Whitaker</td>\n",
       "      <td>3337758169645356</td>\n",
       "      <td>11/18</td>\n",
       "      <td>561</td>\n",
       "      <td>Mastercard</td>\n",
       "      <td>anthony41@reed.com</td>\n",
       "      <td>Drilling engineer</td>\n",
       "      <td>15.160.41.51</td>\n",
       "      <td>fr</td>\n",
       "      <td>70.73</td>\n",
       "    </tr>\n",
       "    <tr>\n",
       "      <th>2</th>\n",
       "      <td>Unit 0065 Box 5052\\nDPO AP 27450</td>\n",
       "      <td>94 vE</td>\n",
       "      <td>PM</td>\n",
       "      <td>Mozilla/5.0 (compatible; MSIE 9.0; Windows NT ...</td>\n",
       "      <td>Simpson, Williams and Pham</td>\n",
       "      <td>675957666125</td>\n",
       "      <td>08/19</td>\n",
       "      <td>699</td>\n",
       "      <td>JCB 16 digit</td>\n",
       "      <td>amymiller@morales-harrison.com</td>\n",
       "      <td>Customer service manager</td>\n",
       "      <td>132.207.160.22</td>\n",
       "      <td>de</td>\n",
       "      <td>0.95</td>\n",
       "    </tr>\n",
       "    <tr>\n",
       "      <th>3</th>\n",
       "      <td>7780 Julia Fords\\nNew Stacy, WA 45798</td>\n",
       "      <td>36 vm</td>\n",
       "      <td>PM</td>\n",
       "      <td>Mozilla/5.0 (Macintosh; Intel Mac OS X 10_8_0 ...</td>\n",
       "      <td>Williams, Marshall and Buchanan</td>\n",
       "      <td>6011578504430710</td>\n",
       "      <td>02/24</td>\n",
       "      <td>384</td>\n",
       "      <td>Discover</td>\n",
       "      <td>brent16@olson-robinson.info</td>\n",
       "      <td>Drilling engineer</td>\n",
       "      <td>30.250.74.19</td>\n",
       "      <td>es</td>\n",
       "      <td>78.04</td>\n",
       "    </tr>\n",
       "    <tr>\n",
       "      <th>4</th>\n",
       "      <td>23012 Munoz Drive Suite 337\\nNew Cynthia, TX 5...</td>\n",
       "      <td>20 IE</td>\n",
       "      <td>AM</td>\n",
       "      <td>Opera/9.58.(X11; Linux x86_64; it-IT) Presto/2...</td>\n",
       "      <td>Brown, Watson and Andrews</td>\n",
       "      <td>6011456623207998</td>\n",
       "      <td>10/25</td>\n",
       "      <td>678</td>\n",
       "      <td>Diners Club / Carte Blanche</td>\n",
       "      <td>christopherwright@gmail.com</td>\n",
       "      <td>Fine artist</td>\n",
       "      <td>24.140.33.94</td>\n",
       "      <td>es</td>\n",
       "      <td>77.82</td>\n",
       "    </tr>\n",
       "  </tbody>\n",
       "</table>\n",
       "</div>"
      ],
      "text/plain": [
       "                                             Address    Lot AM or PM  \\\n",
       "0  16629 Pace Camp Apt. 448\\nAlexisborough, NE 77...  46 in       PM   \n",
       "1  9374 Jasmine Spurs Suite 508\\nSouth John, TN 8...  28 rn       PM   \n",
       "2                   Unit 0065 Box 5052\\nDPO AP 27450  94 vE       PM   \n",
       "3              7780 Julia Fords\\nNew Stacy, WA 45798  36 vm       PM   \n",
       "4  23012 Munoz Drive Suite 337\\nNew Cynthia, TX 5...  20 IE       AM   \n",
       "\n",
       "                                        Browser Info  \\\n",
       "0  Opera/9.56.(X11; Linux x86_64; sl-SI) Presto/2...   \n",
       "1  Opera/8.93.(Windows 98; Win 9x 4.90; en-US) Pr...   \n",
       "2  Mozilla/5.0 (compatible; MSIE 9.0; Windows NT ...   \n",
       "3  Mozilla/5.0 (Macintosh; Intel Mac OS X 10_8_0 ...   \n",
       "4  Opera/9.58.(X11; Linux x86_64; it-IT) Presto/2...   \n",
       "\n",
       "                           Company       Credit Card CC Exp Date  \\\n",
       "0                  Martinez-Herman  6011929061123406       02/20   \n",
       "1  Fletcher, Richards and Whitaker  3337758169645356       11/18   \n",
       "2       Simpson, Williams and Pham      675957666125       08/19   \n",
       "3  Williams, Marshall and Buchanan  6011578504430710       02/24   \n",
       "4        Brown, Watson and Andrews  6011456623207998       10/25   \n",
       "\n",
       "   CC Security Code                  CC Provider  \\\n",
       "0               900                 JCB 16 digit   \n",
       "1               561                   Mastercard   \n",
       "2               699                 JCB 16 digit   \n",
       "3               384                     Discover   \n",
       "4               678  Diners Club / Carte Blanche   \n",
       "\n",
       "                            Email                                     Job  \\\n",
       "0               pdunlap@yahoo.com  Scientist, product/process development   \n",
       "1              anthony41@reed.com                       Drilling engineer   \n",
       "2  amymiller@morales-harrison.com                Customer service manager   \n",
       "3     brent16@olson-robinson.info                       Drilling engineer   \n",
       "4     christopherwright@gmail.com                             Fine artist   \n",
       "\n",
       "        IP Address Language  Purchase Price  \n",
       "0  149.146.147.205       el           98.14  \n",
       "1     15.160.41.51       fr           70.73  \n",
       "2   132.207.160.22       de            0.95  \n",
       "3     30.250.74.19       es           78.04  \n",
       "4     24.140.33.94       es           77.82  "
      ]
     },
     "execution_count": 24,
     "metadata": {},
     "output_type": "execute_result"
    }
   ],
   "source": [
    "df = pd.read_csv(\"Ecommerce_purchases.txt\", delimiter=\",\",low_memory=False)\n",
    "df.head()"
   ]
  },
  {
   "cell_type": "code",
   "execution_count": 23,
   "id": "fe9ce5e9-6925-440c-b1f1-490bdcd8a91c",
   "metadata": {},
   "outputs": [
    {
     "name": "stdout",
     "output_type": "stream",
     "text": [
      "rows: 10000 columns: 14\n"
     ]
    }
   ],
   "source": [
    "print(f\"rows: {df.shape[0]}\", f\"columns: {df.shape[1]}\")"
   ]
  },
  {
   "cell_type": "code",
   "execution_count": 25,
   "id": "55a61e49-3518-4253-afd6-2553d30433c5",
   "metadata": {},
   "outputs": [
    {
     "name": "stdout",
     "output_type": "stream",
     "text": [
      "50.347302\n"
     ]
    }
   ],
   "source": [
    "average_purchase_price = df['Purchase Price'].mean()\n",
    "\n",
    "print(average_purchase_price)\n"
   ]
  },
  {
   "cell_type": "code",
   "execution_count": 27,
   "id": "181d0936-17ba-4729-bf9e-5fc40f6faa43",
   "metadata": {},
   "outputs": [
    {
     "name": "stdout",
     "output_type": "stream",
     "text": [
      "highest 99.99\n",
      "lowest 0.0\n"
     ]
    }
   ],
   "source": [
    "highest_purchase_price = df['Purchase Price'].max()\n",
    "lowest_purchase_price = df['Purchase Price'].min()\n",
    "\n",
    "print(f\"highest {highest_purchase_price}\")\n",
    "print(f\"lowest {lowest_purchase_price}\")"
   ]
  },
  {
   "cell_type": "code",
   "execution_count": 30,
   "id": "06ed4bbe-65b2-49e0-8a58-573eb070a35b",
   "metadata": {},
   "outputs": [
    {
     "name": "stdout",
     "output_type": "stream",
     "text": [
      "Total amount of english speakers: 1098\n"
     ]
    }
   ],
   "source": [
    "english_speakers_count = df[df['Language'] == 'en'].shape[0]\n",
    "\n",
    "print(f\"Total amount of english speakers: {english_speakers_count}\")"
   ]
  },
  {
   "cell_type": "code",
   "execution_count": 32,
   "id": "21c2ad3f-0028-49c1-9d42-97a7dec09146",
   "metadata": {},
   "outputs": [
    {
     "name": "stdout",
     "output_type": "stream",
     "text": [
      "Total amount of lawyers: 30\n"
     ]
    }
   ],
   "source": [
    "lawyers_count = df[df[\"Job\"] == \"Lawyer\"].shape[0]\n",
    "print(f\"Total amount of lawyers: {lawyers_count}\")"
   ]
  },
  {
   "cell_type": "code",
   "execution_count": 36,
   "id": "ea7e0cfd-5203-42f5-b7ea-73ddf551fe18",
   "metadata": {},
   "outputs": [
    {
     "name": "stdout",
     "output_type": "stream",
     "text": [
      "Total amount of am purchases: 4932\n",
      "Total amount of pm purchases: 5068\n"
     ]
    }
   ],
   "source": [
    "am_pm_purchases = df['AM or PM'].value_counts()\n",
    "\n",
    "am_purchases = am_pm_purchases.get('AM', 0)\n",
    "pm_purchases = am_pm_purchases.get('PM', 0)\n",
    "\n",
    "# Print the results\n",
    "print(f\"Total amount of am purchases: {am_purchases}\")\n",
    "print(f\"Total amount of pm purchases: {pm_purchases}\")\n",
    "\n"
   ]
  },
  {
   "cell_type": "code",
   "execution_count": 40,
   "id": "7db3fe26-9baa-4fbb-8ad3-786f01990deb",
   "metadata": {},
   "outputs": [
    {
     "data": {
      "text/plain": [
       "Job\n",
       "Interior and spatial designer    31\n",
       "Lawyer                           30\n",
       "Social researcher                28\n",
       "Purchasing manager               27\n",
       "Designer, jewellery              27\n",
       "Name: count, dtype: int64"
      ]
     },
     "execution_count": 40,
     "metadata": {},
     "output_type": "execute_result"
    }
   ],
   "source": [
    "job_titles = df['Job'].value_counts()\n",
    "job_titles.head(5)"
   ]
  },
  {
   "cell_type": "code",
   "execution_count": 41,
   "id": "6be55887-77d8-44f5-a237-227ff60e2c45",
   "metadata": {},
   "outputs": [
    {
     "data": {
      "text/plain": [
       "75.1"
      ]
     },
     "execution_count": 41,
     "metadata": {},
     "output_type": "execute_result"
    }
   ],
   "source": [
    "purchase_from_lot_90_wt = df[df['Lot'] == \"90 WT\"]['Purchase Price'].iloc[0]\n",
    "purchase_from_lot_90_wt\n"
   ]
  },
  {
   "cell_type": "code",
   "execution_count": 42,
   "id": "dbb097eb-e140-4040-bd82-acc1cef04c3c",
   "metadata": {},
   "outputs": [
    {
     "data": {
      "text/plain": [
       "'bondellen@williams-garza.com'"
      ]
     },
     "execution_count": 42,
     "metadata": {},
     "output_type": "execute_result"
    }
   ],
   "source": [
    "email_of_cc_owner = df[df['Credit Card'] == 4926535242672853]['Email'].iloc[0]\n",
    "email_of_cc_owner\n"
   ]
  },
  {
   "cell_type": "code",
   "execution_count": 43,
   "id": "a17e548d-9734-4dc0-83ef-e2a73fb6691f",
   "metadata": {},
   "outputs": [
    {
     "data": {
      "text/plain": [
       "39"
      ]
     },
     "execution_count": 43,
     "metadata": {},
     "output_type": "execute_result"
    }
   ],
   "source": [
    "amex_and_above_95 = df[(df['CC Provider'] == 'American Express') & (df['Purchase Price'] > 95)].shape[0]\n",
    "amex_and_above_95"
   ]
  },
  {
   "cell_type": "code",
   "execution_count": null,
   "id": "405e4bd8-dd30-419f-ada4-065f15daee95",
   "metadata": {},
   "outputs": [],
   "source": [
    "# we will first convert the expiration date to a datetime object to extract the year,\n",
    "# and then count the number of occurrences where the year is 2025.\n",
    "\n",
    "# Convert the 'CC Exp Date' to datetime\n",
    "df['CC Exp Date'] = pd.to_datetime(df['CC Exp Date'], format='%m/%y')\n",
    "\n",
    "# Extract the expiration year\n",
    "df['Exp Year'] = df['CC Exp Date'].dt.year\n",
    "\n",
    "# Count the number of credit cards expiring in 2025\n",
    "credit_cards_expiring_2025 = df[df['Exp Year'] == 2025].shape[0]\n",
    "\n",
    "credit_cards_expiring_2025"
   ]
  },
  {
   "cell_type": "code",
   "execution_count": 48,
   "id": "c6f5cdc8-1ead-46c2-9972-dd5508e14b2b",
   "metadata": {},
   "outputs": [
    {
     "data": {
      "text/plain": [
       "Email\n",
       "hotmail.com     1638\n",
       "yahoo.com       1616\n",
       "gmail.com       1605\n",
       "smith.com         42\n",
       "williams.com      37\n",
       "Name: count, dtype: int64"
      ]
     },
     "execution_count": 48,
     "metadata": {},
     "output_type": "execute_result"
    }
   ],
   "source": [
    "email_providers = df['Email'].apply(lambda x: x.split('@')[1])\n",
    "\n",
    "# Use value_counts to find the top 5 most popular email providers/hosts\n",
    "top_5_email_providers = email_providers.value_counts().head(5)\n",
    "\n",
    "top_5_email_providers"
   ]
  },
  {
   "cell_type": "markdown",
   "id": "78c65670-e459-4a84-b012-fee82d7c40ae",
   "metadata": {},
   "source": [
    "## Exercise 4: Handling missing values"
   ]
  },
  {
   "cell_type": "code",
   "execution_count": 53,
   "id": "fd90d176-3b58-4d8a-b148-c46b2ba44f1c",
   "metadata": {},
   "outputs": [
    {
     "data": {
      "text/plain": [
       "(sepal_length    0\n",
       " sepal_width     0\n",
       " petal_length    0\n",
       " petal_width     0\n",
       " dtype: int64,\n",
       "    sepal_length  sepal_width  petal_length  petal_width\n",
       " 0           5.1          3.5           1.4          0.2\n",
       " 1           4.9          3.0           1.4          0.2\n",
       " 2           4.7          3.2           1.3          0.2\n",
       " 3           4.6          3.1           1.5          0.2\n",
       " 4           5.0         -3.6          -1.4          0.2)"
      ]
     },
     "execution_count": 53,
     "metadata": {},
     "output_type": "execute_result"
    }
   ],
   "source": [
    "# Load the dataset\n",
    "df = pd.read_csv(\"iris.csv\", delimiter=\",\")\n",
    "\n",
    "# Convert the numerical columns to float\n",
    "df['sepal_length'] = pd.to_numeric(df['sepal_length'], errors='coerce')\n",
    "df['sepal_width'] = pd.to_numeric(df['sepal_width'], errors='coerce')\n",
    "df['petal_length'] = pd.to_numeric(df['petal_length'], errors='coerce')\n",
    "df['petal_width'] = pd.to_numeric(df['petal_width'], errors='coerce')\n",
    "\n",
    "# Drop the 'flower' column\n",
    "df.drop('flower', axis=1, inplace=True)\n",
    "\n",
    "# Fill the missing values according to the specified strategies\n",
    "# Fill NaN values for 'sepal_length' and 'sepal_width'\n",
    "df['sepal_length'] = df['sepal_length'].fillna(df['sepal_length'].mean())\n",
    "df['sepal_width'] = df['sepal_width'].fillna(df['sepal_width'].median())\n",
    "\n",
    "# For 'petal_length' and 'petal_width', use a dictionary to fill NaN values\n",
    "fill_values = {'petal_length': 0, 'petal_width': 0}\n",
    "df.fillna(fill_values, inplace=True)\n",
    "\n",
    "# Validate the second step: Check for remaining missing values\n",
    "missing_values_after_filling = df.isnull().sum()\n",
    "\n",
    "missing_values_after_filling, df.head()\n"
   ]
  },
  {
   "cell_type": "code",
   "execution_count": 56,
   "id": "608e99a7-01e9-424a-a5b4-58a4b48f33ed",
   "metadata": {},
   "outputs": [
    {
     "name": "stdout",
     "output_type": "stream",
     "text": [
      "sepal_length    0\n",
      "sepal_width     0\n",
      "petal_length    0\n",
      "petal_width     0\n",
      "dtype: int64\n",
      "   sepal_length  sepal_width  petal_length  petal_width\n",
      "0           5.1          3.5           1.4          0.2\n",
      "1           4.9          3.0           1.4          0.2\n",
      "2           4.7          3.2           1.3          0.2\n",
      "3           4.6          3.1           1.5          0.2\n",
      "4           5.0         -3.6          -1.4          0.2\n"
     ]
    }
   ],
   "source": [
    "df = pd.read_csv(\"iris.csv\")\n",
    "\n",
    "# Convert the numerical columns to float, handling errors with 'coerce'\n",
    "df['sepal_length'] = pd.to_numeric(df['sepal_length'], errors='coerce')\n",
    "df['sepal_width'] = pd.to_numeric(df['sepal_width'], errors='coerce')\n",
    "df['petal_length'] = pd.to_numeric(df['petal_length'], errors='coerce')\n",
    "df['petal_width'] = pd.to_numeric(df['petal_width'], errors='coerce')\n",
    "\n",
    "# Drop the 'flower' column\n",
    "df.drop('flower', axis=1, inplace=True)\n",
    "\n",
    "# Fill missing values with the median of the associated column\n",
    "columns_to_fill = ['sepal_length', 'sepal_width', 'petal_length', 'petal_width']\n",
    "for col in columns_to_fill:\n",
    "    df.loc[:, col] = df.loc[:, col].fillna(df[col].median())\n",
    "\n",
    "# Check for remaining missing values to ensure all have been filled\n",
    "missing_values_after_filling = df.isnull().sum()\n",
    "\n",
    "# Output the result and the first few rows of the DataFrame to verify\n",
    "print(missing_values_after_filling)\n",
    "print(df.head())"
   ]
  },
  {
   "cell_type": "code",
   "execution_count": null,
   "id": "4ec05856-e1d5-4d03-ad29-6f0e9bfaa680",
   "metadata": {},
   "outputs": [],
   "source": []
  }
 ],
 "metadata": {
  "kernelspec": {
   "display_name": "Python 3 (ipykernel)",
   "language": "python",
   "name": "python3"
  },
  "language_info": {
   "codemirror_mode": {
    "name": "ipython",
    "version": 3
   },
   "file_extension": ".py",
   "mimetype": "text/x-python",
   "name": "python",
   "nbconvert_exporter": "python",
   "pygments_lexer": "ipython3",
   "version": "3.9.10"
  }
 },
 "nbformat": 4,
 "nbformat_minor": 5
}
